{
 "cells": [
  {
   "cell_type": "markdown",
   "metadata": {},
   "source": [
    "# Primary/first filler of DB tables\n",
    "- data.kline_price\n",
    "- data.kline_index_price \n",
    "- data.kline_mark_price\n",
    "- data.kline_premium_index_price"
   ]
  },
  {
   "cell_type": "code",
   "execution_count": 9,
   "metadata": {},
   "outputs": [
    {
     "data": {
      "text/plain": [
       "<module 'src_API' from 'd:\\\\myGit\\\\BTC_HFT_pet\\\\airflow_docker\\\\dags\\\\src_API.py'>"
      ]
     },
     "execution_count": 9,
     "metadata": {},
     "output_type": "execute_result"
    }
   ],
   "source": [
    "from pybit.unified_trading import HTTP\n",
    "from pybit.unified_trading import WebSocket\n",
    "import pybit # working source\n",
    "import pandas as pd\n",
    "import datetime \n",
    "\n",
    "# import psycopg2\n",
    "from sqlalchemy import create_engine\n",
    "from sqlalchemy.sql import text\n",
    "from tqdm import tqdm\n",
    "\n",
    "import sys\n",
    "from importlib import reload\n",
    "sys.path.append('../../../') \n",
    "sys.path.append('../../src/')\n",
    "from credentials import KEY_test, SECRET_test, DB_username, DB_password, DB_host, DB_name\n",
    "import src_API\n",
    "\n",
    "reload(src_API)"
   ]
  },
  {
   "cell_type": "code",
   "execution_count": 10,
   "metadata": {},
   "outputs": [],
   "source": [
    "interval = {1:1, 3:2, 5:3, 15:4, 30:5, 60:6, 120:7, 240:8, 360:9, 720:10, 'D':11}\n",
    "equal_dict = {1: 60000,\n",
    "              3: 180000,\n",
    "              5: 300000,\n",
    "              15: 900000, \n",
    "              30: 1800000,\n",
    "              60: 3600000,\n",
    "              120: 7200000,\n",
    "              240: 14400000,\n",
    "              360: 21600000,\n",
    "              720: 43200000,\n",
    "              'D': 86400000}\n",
    "symbol_dct = {'BTCUSDT': 1, 'ETHUSDT':2}\n",
    "symbol = 'BTCUSDT'\n",
    "limit = 1000\n",
    "start_str = '2020-06-01 00:00:00'\n",
    "end_str = '2024-03-01 00:00:00'"
   ]
  },
  {
   "cell_type": "code",
   "execution_count": 11,
   "metadata": {},
   "outputs": [],
   "source": [
    "# create Bybit client \n",
    "client = HTTP(testnet=True, api_key=KEY_test, api_secret=SECRET_test)\n",
    "\n",
    "# create engine \n",
    "for_engine = f'postgresql+psycopg2://{DB_username}:{DB_password}@{DB_host}/{DB_name}'\n",
    "engine = create_engine(for_engine)"
   ]
  },
  {
   "cell_type": "markdown",
   "metadata": {},
   "source": [
    "filler __data.kline__ table"
   ]
  },
  {
   "cell_type": "code",
   "execution_count": 12,
   "metadata": {},
   "outputs": [],
   "source": [
    "reload(src_API)\n",
    "category = {'spot':1, 'linear':2}\n",
    "end = (src_API.convert_dt_to_timestamp(end_str))\n",
    "start = (src_API.convert_dt_to_timestamp(start_str))\n",
    "\n",
    "# filling kline_price\n",
    "for i in list(category.keys()):\n",
    "    for j in list(interval.keys()):\n",
    "        follow = start\n",
    "        while follow <= end:\n",
    "            lag = follow + equal_dict.get(j)*(limit)\n",
    "            data = src_API.get_kline(client, i, symbol, j, start=lag, limit=limit)\n",
    "            data.dropna(inplace=True)\n",
    "            follow = lag\n",
    "            if data.shape[0] == 0:\n",
    "                continue\n",
    "            data['category'] = category.get(i)\n",
    "            data['interval'] = interval.get(j)\n",
    "            data['symbol'] = symbol_dct.get(symbol)\n",
    "            data['source'] = 2\n",
    "            data['created_dt'] = datetime.datetime.now().strftime(\"%Y-%m-%d %H:%M:%S\") \n",
    "            data = data.sort_values(by=['datetime']).reset_index(drop=True)\n",
    "            data[['datetime', 'category', 'interval', \n",
    "                  'symbol', 'open', 'high', 'low', \n",
    "                  'close', 'volume', 'turnover', \n",
    "                  'source', 'created_dt']]\\\n",
    "                      .to_sql(name='kline_price', schema='data', con=engine, if_exists='append', index=False)\n",
    "            "
   ]
  },
  {
   "cell_type": "markdown",
   "metadata": {},
   "source": [
    "filler __kline_index_price__ table"
   ]
  },
  {
   "cell_type": "code",
   "execution_count": 13,
   "metadata": {},
   "outputs": [],
   "source": [
    "reload(src_API)\n",
    "category = {'linear':2}\n",
    "end = (src_API.convert_dt_to_timestamp(end_str))\n",
    "start = (src_API.convert_dt_to_timestamp(start_str))\n",
    "\n",
    "# filling kline_index_price table\n",
    "for i in list(category.keys()):\n",
    "    for j in list(interval.keys()):\n",
    "        follow = start\n",
    "        while follow <= end:\n",
    "            lag = follow + equal_dict.get(j)*(limit)\n",
    "            data = src_API.get_index_price_kline(client, i, symbol, j, start=lag, limit=limit)\n",
    "            data.dropna(inplace=True)\n",
    "            follow = lag\n",
    "            if data.shape[0] == 0:\n",
    "                continue\n",
    "            data['category'] = category.get(i)\n",
    "            data['interval'] = interval.get(j)\n",
    "            data['symbol'] = symbol_dct.get(symbol)\n",
    "            data['source'] = 2\n",
    "            data['created_dt'] = datetime.datetime.now().strftime(\"%Y-%m-%d %H:%M:%S\")\n",
    "            data = data.sort_values(by=['datetime']).reset_index(drop=True)\n",
    "            data[['datetime', 'category', 'interval', \n",
    "                  'symbol', 'open', 'high', 'low', \n",
    "                  'close', 'source', 'created_dt']]\\\n",
    "                      .to_sql(name='kline_index_price', schema='data', con=engine, if_exists='append', index=False)\n",
    "            "
   ]
  },
  {
   "cell_type": "markdown",
   "metadata": {},
   "source": [
    "filler __kline_mark_price__ table"
   ]
  },
  {
   "cell_type": "code",
   "execution_count": 14,
   "metadata": {},
   "outputs": [],
   "source": [
    "reload(src_API)\n",
    "category = {'linear':2}\n",
    "end = (src_API.convert_dt_to_timestamp(end_str))\n",
    "start = (src_API.convert_dt_to_timestamp(start_str))\n",
    "\n",
    "# filling kline_index_price table\n",
    "for i in list(category.keys()):\n",
    "    for j in list(interval.keys()):\n",
    "        follow = start\n",
    "        while follow <= end:\n",
    "            lag = follow + equal_dict.get(j)*(limit)\n",
    "            data = src_API.get_mark_price_kline(client, i, symbol, j, start=lag, limit=limit)\n",
    "            data.dropna(inplace=True)\n",
    "            follow = lag\n",
    "            if data.shape[0] == 0:\n",
    "                continue\n",
    "            data['category'] = category.get(i)\n",
    "            data['interval'] = interval.get(j)\n",
    "            data['symbol'] = symbol_dct.get(symbol)\n",
    "            data['source'] = 2\n",
    "            data['created_dt'] = datetime.datetime.now().strftime(\"%Y-%m-%d %H:%M:%S\")\n",
    "            data = data.sort_values(by=['datetime']).reset_index(drop=True)\n",
    "            data[['datetime', 'category', 'interval', \n",
    "                  'symbol', 'open', 'high', 'low', \n",
    "                  'close', 'source', 'created_dt']]\\\n",
    "                      .to_sql(name='kline_mark_price', schema='data', con=engine, if_exists='append', index=False)"
   ]
  },
  {
   "cell_type": "markdown",
   "metadata": {},
   "source": [
    "filler __kline_premium_index_price__ table"
   ]
  },
  {
   "cell_type": "code",
   "execution_count": 15,
   "metadata": {},
   "outputs": [],
   "source": [
    "reload(src_API)\n",
    "category = {'linear':2}\n",
    "end = (src_API.convert_dt_to_timestamp(end_str))\n",
    "start = (src_API.convert_dt_to_timestamp(start_str))\n",
    "\n",
    "# filling kline_index_price table\n",
    "for i in list(category.keys()):\n",
    "    for j in list(interval.keys()):\n",
    "        follow = start\n",
    "        while follow <= end:\n",
    "            lag = follow + equal_dict.get(j)*(limit)\n",
    "            data = src_API.get_premium_index_price_kline(client, i, symbol, j, start=lag, limit=limit)\n",
    "            data.dropna(inplace=True)\n",
    "            follow = lag\n",
    "            if data.shape[0] == 0:\n",
    "                continue\n",
    "            data['category'] = category.get(i)\n",
    "            data['interval'] = interval.get(j)\n",
    "            data['symbol'] = symbol_dct.get(symbol)\n",
    "            data['source'] = 2\n",
    "            data['created_dt'] = datetime.datetime.now().strftime(\"%Y-%m-%d %H:%M:%S\")\n",
    "            data = data.sort_values(by=['datetime']).reset_index(drop=True)\n",
    "            data[['datetime', 'category', 'interval', \n",
    "                  'symbol', 'open', 'high', 'low', \n",
    "                  'close', 'source', 'created_dt']]\\\n",
    "                      .to_sql(name='kline_premium_index_price', schema='data', con=engine, if_exists='append', index=False)"
   ]
  },
  {
   "cell_type": "markdown",
   "metadata": {},
   "source": [
    "___"
   ]
  }
 ],
 "metadata": {
  "kernelspec": {
   "display_name": "Python 3",
   "language": "python",
   "name": "python3"
  },
  "language_info": {
   "codemirror_mode": {
    "name": "ipython",
    "version": 3
   },
   "file_extension": ".py",
   "mimetype": "text/x-python",
   "name": "python",
   "nbconvert_exporter": "python",
   "pygments_lexer": "ipython3",
   "version": "3.11.7"
  }
 },
 "nbformat": 4,
 "nbformat_minor": 2
}
