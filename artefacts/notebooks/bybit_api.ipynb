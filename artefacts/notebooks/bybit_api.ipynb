{
 "cells": [
  {
   "cell_type": "code",
   "execution_count": 2,
   "metadata": {},
   "outputs": [
    {
     "data": {
      "text/plain": [
       "True"
      ]
     },
     "execution_count": 2,
     "metadata": {},
     "output_type": "execute_result"
    }
   ],
   "source": [
    "%reload_ext autoreload\n",
    "%autoreload 2\n",
    "\n",
    "from pybit.unified_trading import HTTP\n",
    "from pybit.unified_trading import WebSocket\n",
    "import pybit # working source\n",
    "import pandas as pd\n",
    "import datetime \n",
    "import time\n",
    "import random\n",
    "\n",
    "import sys\n",
    "import os\n",
    "\n",
    "sys.path.append('../../src/') \n",
    "sys.path.append('../../../src/')\n",
    "\n",
    "import src_API\n",
    "\n",
    "from dotenv import load_dotenv\n",
    "load_dotenv()"
   ]
  },
  {
   "cell_type": "markdown",
   "metadata": {},
   "source": [
    "__getting client__"
   ]
  },
  {
   "cell_type": "code",
   "execution_count": 3,
   "metadata": {},
   "outputs": [],
   "source": [
    "session = HTTP(testnet=True, api_key=os.getenv('BYBIT_KEY_test'), api_secret=os.getenv('BYBIT_SECRET_test'))\n"
   ]
  },
  {
   "cell_type": "code",
   "execution_count": 4,
   "metadata": {},
   "outputs": [],
   "source": [
    "symbol = 'BTCUSDT'"
   ]
  },
  {
   "cell_type": "code",
   "execution_count": 80,
   "metadata": {},
   "outputs": [
    {
     "name": "stdout",
     "output_type": "stream",
     "text": [
      "{'retCode': 0, 'retMsg': 'OK', 'result': {'orderId': '1819581353914886144', 'orderLinkId': 'spot-test-1731647000'}, 'retExtInfo': {}, 'time': 1731647000480}\n"
     ]
    }
   ],
   "source": [
    "symbol = 'BTCUSDT'  # Изменено на стандартный символ для спотовой торговли\n",
    "orderLinkId = f\"spot-test-{int(time.time())}\"  # Уникальный идентификатор для ордера\n",
    "\n",
    "print(client.place_order(\n",
    "    category=\"spot\",\n",
    "    symbol=\"BTCUSDT\",\n",
    "    side=\"Buy\",\n",
    "    orderType=\"Market\",\n",
    "    qty=\"10\",\n",
    "    #price=\"15600\",\n",
    "    #timeInForce=\"PostOnly\",\n",
    "    orderLinkId=orderLinkId,\n",
    "    isLeverage=0,\n",
    "    orderFilter=\"Order\",\n",
    "))"
   ]
  },
  {
   "cell_type": "code",
   "execution_count": 8,
   "metadata": {},
   "outputs": [
    {
     "name": "stdout",
     "output_type": "stream",
     "text": [
      "{'retCode': 0, 'retMsg': 'OK', 'result': {'orderId': '0eb95d96-fb39-4ba8-8d36-02930ef1b096', 'orderLinkId': 'spot-test-1731820640-1746'}, 'retExtInfo': {}, 'time': 1731820640263}\n"
     ]
    }
   ],
   "source": [
    "symbol = 'BTCUSDT'  # Пара деривативов\n",
    "side = 'Buy'        # Покупка для длинной позиции, \"Sell\" для короткой\n",
    "orderType = 'Market' # Тип ордера, например, \"Limit\" или \"Market\"\n",
    "qty = 0.001       # Количество BTC для покупки\n",
    "price = 89200       # Цена, по которой вы хотите открыть ордер (для лимитного ордера)\n",
    "orderLinkId = f\"spot-test-{int(time.time())}-{random.randint(1000, 9999)}\"  # Уникальный идентификатор для ордера\n",
    "\n",
    "# Take Profit и Stop Loss уровни\n",
    "stop_loss_price = 85000   # Stop Loss ниже текущей цены\n",
    "take_profit_price = 91000 # Take Profit выше текущей цены\n",
    "\n",
    "# Размещение ордера с тейк-профитом и стоп-лоссом\n",
    "order = client.place_order(\n",
    "    category=\"linear\",       # Тип деривативов (например, linear для USDT-пар)\n",
    "    symbol=symbol,\n",
    "    side=side,\n",
    "    orderType=orderType,\n",
    "    qty=qty,\n",
    "    #price=price,             # Только для лимитного ордера\n",
    "    takeProfit=take_profit_price,\n",
    "    stopLoss=stop_loss_price,\n",
    "    #timeInForce=\"GoodTillCancel\",  # Устанавливает срок действия ордера\n",
    "    orderLinkId=orderLinkId\n",
    ")\n",
    "\n",
    "print(order)"
   ]
  },
  {
   "cell_type": "code",
   "execution_count": 62,
   "metadata": {},
   "outputs": [
    {
     "name": "stdout",
     "output_type": "stream",
     "text": [
      "Ордер успешно размещен: {'retCode': 0, 'retMsg': 'OK', 'result': {'orderId': 'afe0833c-21c9-4f10-8062-6e6de973f0fe', 'orderLinkId': ''}, 'retExtInfo': {}, 'time': 1731643810722}\n"
     ]
    }
   ],
   "source": [
    "# Параметры ордера\n",
    "symbol = \"BTCUSDT\"  # Торговая пара\n",
    "side = \"Buy\"        # \"Buy\" для покупки, \"Sell\" для продажи\n",
    "order_type = \"Market\"  # Рыночный ордер\n",
    "quantity = 0.001       # Количество BTC, которое хотите купить\n",
    "\n",
    "# Размещение ордера\n",
    "order = client.place_order(\n",
    "    category=\"linear\",         # Тип рынка - спотовый\n",
    "    symbol=symbol,\n",
    "    side=side,\n",
    "    orderType=order_type,\n",
    "    qty=quantity\n",
    ")\n",
    "\n",
    "print(\"Ордер успешно размещен:\", order)"
   ]
  },
  {
   "cell_type": "code",
   "execution_count": null,
   "metadata": {},
   "outputs": [],
   "source": []
  },
  {
   "cell_type": "code",
   "execution_count": null,
   "metadata": {},
   "outputs": [],
   "source": []
  },
  {
   "cell_type": "code",
   "execution_count": 70,
   "metadata": {},
   "outputs": [
    {
     "data": {
      "text/plain": [
       "{'retCode': 0,\n",
       " 'retMsg': 'OK',\n",
       " 'result': {'list': [{'totalEquity': '10257.94522862',\n",
       "    'accountIMRate': '0.0156',\n",
       "    'totalMarginBalance': '9631.99364516',\n",
       "    'totalInitialMargin': '150.34373086',\n",
       "    'accountType': 'UNIFIED',\n",
       "    'totalAvailableBalance': '9481.6499143',\n",
       "    'accountMMRate': '0.0008',\n",
       "    'totalPerpUPL': '-12.45397204',\n",
       "    'totalWalletBalance': '9644.4476172',\n",
       "    'accountLTV': '0',\n",
       "    'totalMaintenanceMargin': '8.22069557',\n",
       "    'coin': [{'availableToBorrow': '',\n",
       "      'bonus': '0',\n",
       "      'accruedInterest': '0',\n",
       "      'availableToWithdraw': '9478.2282739',\n",
       "      'totalOrderIM': '0',\n",
       "      'equity': '9628.51775026',\n",
       "      'totalPositionMM': '8.21772897',\n",
       "      'usdValue': '9631.99364516',\n",
       "      'unrealisedPnl': '-12.44947778',\n",
       "      'collateralSwitch': True,\n",
       "      'spotHedgingQty': '0',\n",
       "      'borrowAmount': '0.000000000000000000',\n",
       "      'totalPositionIM': '150.28947636',\n",
       "      'walletBalance': '9640.96722804',\n",
       "      'cumRealisedPnl': '30.68643117',\n",
       "      'locked': '0',\n",
       "      'marginCollateral': True,\n",
       "      'coin': 'USDT'}]}]},\n",
       " 'retExtInfo': {},\n",
       " 'time': 1731645553924}"
      ]
     },
     "metadata": {},
     "output_type": "display_data"
    }
   ],
   "source": [
    "display(client.get_wallet_balance(\n",
    "    accountType=\"UNIFIED\",\n",
    "    coin=\"USDT\",\n",
    "))"
   ]
  },
  {
   "cell_type": "code",
   "execution_count": null,
   "metadata": {},
   "outputs": [
    {
     "data": {
      "text/plain": [
       "{'retCode': 0,\n",
       " 'retMsg': 'OK',\n",
       " 'result': {'marginMode': 'REGULAR_MARGIN',\n",
       "  'updatedTime': '1704457800000',\n",
       "  'unifiedMarginStatus': 3,\n",
       "  'dcpStatus': 'OFF',\n",
       "  'timeWindow': 0,\n",
       "  'smpGroup': 0,\n",
       "  'isMasterTrader': False,\n",
       "  'spotHedgingStatus': 'OFF'}}"
      ]
     },
     "metadata": {},
     "output_type": "display_data"
    }
   ],
   "source": [
    "display(client.get_account_info())"
   ]
  },
  {
   "cell_type": "code",
   "execution_count": 7,
   "metadata": {},
   "outputs": [
    {
     "data": {
      "text/plain": [
       "{'retCode': 0,\n",
       " 'retMsg': 'OK',\n",
       " 'result': {'category': 'linear',\n",
       "  'list': [{'symbol': 'BTCUSDT',\n",
       "    'lastPrice': '91171.90',\n",
       "    'indexPrice': '91178.20',\n",
       "    'markPrice': '91185.76',\n",
       "    'prevPrice24h': '91599.60',\n",
       "    'price24hPcnt': '-0.004669',\n",
       "    'highPrice24h': '99990.00',\n",
       "    'lowPrice24h': '86515.00',\n",
       "    'prevPrice1h': '90263.20',\n",
       "    'openInterest': '1073291.211',\n",
       "    'openInterestValue': '97868874776.36',\n",
       "    'turnover24h': '262681263.7053',\n",
       "    'volume24h': '2899.9440',\n",
       "    'fundingRate': '0.00014572',\n",
       "    'nextFundingTime': '1731859200000',\n",
       "    'predictedDeliveryPrice': '',\n",
       "    'basisRate': '',\n",
       "    'deliveryFeeRate': '',\n",
       "    'deliveryTime': '0',\n",
       "    'ask1Size': '0.001',\n",
       "    'bid1Price': '90890.20',\n",
       "    'ask1Price': '91229.30',\n",
       "    'bid1Size': '0.001',\n",
       "    'basis': '',\n",
       "    'preOpenPrice': '',\n",
       "    'preQty': '',\n",
       "    'curPreListingPhase': ''}]},\n",
       " 'retExtInfo': {},\n",
       " 'time': 1731835315058}"
      ]
     },
     "metadata": {},
     "output_type": "display_data"
    }
   ],
   "source": [
    "price = client.get_tickers(category=\"linear\", symbol=\"BTCUSDT\")\n",
    "display(price)"
   ]
  },
  {
   "cell_type": "code",
   "execution_count": 10,
   "metadata": {},
   "outputs": [
    {
     "data": {
      "text/plain": [
       "{'retCode': 0,\n",
       " 'retMsg': 'OK',\n",
       " 'result': {'nextPageCursor': '98d0d764-317f-4594-9b7b-b240186de025%3A1731944732670%2C5dc49e55-670e-4c47-b7e8-5e5e734a1c97%3A1731944732670',\n",
       "  'category': 'linear',\n",
       "  'list': [{'symbol': 'BTCUSDT',\n",
       "    'orderType': 'Market',\n",
       "    'orderLinkId': '',\n",
       "    'slLimitPrice': '0',\n",
       "    'orderId': '98d0d764-317f-4594-9b7b-b240186de025',\n",
       "    'cancelType': 'UNKNOWN',\n",
       "    'avgPrice': '',\n",
       "    'stopOrderType': 'TakeProfit',\n",
       "    'lastPriceOnCreated': '95544.8',\n",
       "    'orderStatus': 'Untriggered',\n",
       "    'createType': 'CreateByTakeProfit',\n",
       "    'takeProfit': '',\n",
       "    'cumExecValue': '0',\n",
       "    'tpslMode': 'Full',\n",
       "    'smpType': 'None',\n",
       "    'triggerDirection': 2,\n",
       "    'blockTradeId': '',\n",
       "    'isLeverage': '',\n",
       "    'rejectReason': 'EC_NoError',\n",
       "    'price': '0',\n",
       "    'orderIv': '',\n",
       "    'createdTime': '1731944732670',\n",
       "    'tpTriggerBy': '',\n",
       "    'positionIdx': 2,\n",
       "    'timeInForce': 'IOC',\n",
       "    'leavesValue': '0',\n",
       "    'updatedTime': '1731944906542',\n",
       "    'side': 'Buy',\n",
       "    'smpGroup': 0,\n",
       "    'triggerPrice': '95700.6',\n",
       "    'tpLimitPrice': '0',\n",
       "    'cumExecFee': '0',\n",
       "    'leavesQty': '0.013',\n",
       "    'slTriggerBy': '',\n",
       "    'closeOnTrigger': True,\n",
       "    'placeType': '',\n",
       "    'cumExecQty': '0',\n",
       "    'reduceOnly': True,\n",
       "    'qty': '0.013',\n",
       "    'stopLoss': '',\n",
       "    'marketUnit': '',\n",
       "    'smpOrderId': '',\n",
       "    'triggerBy': 'LastPrice'},\n",
       "   {'symbol': 'BTCUSDT',\n",
       "    'orderType': 'Market',\n",
       "    'orderLinkId': '',\n",
       "    'slLimitPrice': '0',\n",
       "    'orderId': '5dc49e55-670e-4c47-b7e8-5e5e734a1c97',\n",
       "    'cancelType': 'UNKNOWN',\n",
       "    'avgPrice': '',\n",
       "    'stopOrderType': 'StopLoss',\n",
       "    'lastPriceOnCreated': '95544.8',\n",
       "    'orderStatus': 'Untriggered',\n",
       "    'createType': 'CreateByStopLoss',\n",
       "    'takeProfit': '',\n",
       "    'cumExecValue': '0',\n",
       "    'tpslMode': 'Full',\n",
       "    'smpType': 'None',\n",
       "    'triggerDirection': 1,\n",
       "    'blockTradeId': '',\n",
       "    'isLeverage': '',\n",
       "    'rejectReason': 'EC_NoError',\n",
       "    'price': '0',\n",
       "    'orderIv': '',\n",
       "    'createdTime': '1731944732670',\n",
       "    'tpTriggerBy': '',\n",
       "    'positionIdx': 2,\n",
       "    'timeInForce': 'IOC',\n",
       "    'leavesValue': '0',\n",
       "    'updatedTime': '1731944906542',\n",
       "    'side': 'Buy',\n",
       "    'smpGroup': 0,\n",
       "    'triggerPrice': '99200.6',\n",
       "    'tpLimitPrice': '0',\n",
       "    'cumExecFee': '0',\n",
       "    'leavesQty': '0.013',\n",
       "    'slTriggerBy': '',\n",
       "    'closeOnTrigger': True,\n",
       "    'placeType': '',\n",
       "    'cumExecQty': '0',\n",
       "    'reduceOnly': True,\n",
       "    'qty': '0.013',\n",
       "    'stopLoss': '',\n",
       "    'marketUnit': '',\n",
       "    'smpOrderId': '',\n",
       "    'triggerBy': 'LastPrice'}]},\n",
       " 'retExtInfo': {},\n",
       " 'time': 1731944925778}"
      ]
     },
     "execution_count": 10,
     "metadata": {},
     "output_type": "execute_result"
    }
   ],
   "source": [
    "session.get_open_orders(category=\"linear\",symbol = \"BTCUSDT\")"
   ]
  },
  {
   "cell_type": "code",
   "execution_count": 25,
   "metadata": {},
   "outputs": [
    {
     "data": {
      "text/plain": [
       "{'retCode': 0,\n",
       " 'retMsg': 'OK',\n",
       " 'result': {'marginMode': 'REGULAR_MARGIN',\n",
       "  'updatedTime': '1704457800000',\n",
       "  'unifiedMarginStatus': 3,\n",
       "  'dcpStatus': 'OFF',\n",
       "  'timeWindow': 0,\n",
       "  'smpGroup': 0,\n",
       "  'isMasterTrader': False,\n",
       "  'spotHedgingStatus': 'OFF'}}"
      ]
     },
     "execution_count": 25,
     "metadata": {},
     "output_type": "execute_result"
    }
   ],
   "source": [
    "account_info = session.get_account_info()\n",
    "account_info"
   ]
  },
  {
   "cell_type": "code",
   "execution_count": 23,
   "metadata": {},
   "outputs": [],
   "source": [
    "import requests\n",
    "res = requests.post(\"https://api-testnet.bybit.com//v5/account/set-hedging-mode\", data = {\"setHedgingMode\": \"ON\"})"
   ]
  },
  {
   "cell_type": "code",
   "execution_count": null,
   "metadata": {},
   "outputs": [
    {
     "data": {
      "text/plain": [
       "{'retCode': 10001,\n",
       " 'retMsg': 'empty value: apiTimestamp[] apiKey[] apiSignature[]',\n",
       " 'result': {},\n",
       " 'retExtInfo': {},\n",
       " 'time': 1731949703118}"
      ]
     },
     "execution_count": 24,
     "metadata": {},
     "output_type": "execute_result"
    }
   ],
   "source": [
    "url = \"https://api-testnet.bybit.com//v5/account/set-hedging-mode\"\n",
    "params = {\n",
    "    \"setHedgingMode\": \"ON\",\n",
    "    \"\"\n",
    "}\n",
    "response = requests.post(url, json=params)"
   ]
  },
  {
   "cell_type": "code",
   "execution_count": 29,
   "metadata": {},
   "outputs": [
    {
     "data": {
      "text/plain": [
       "{'retCode': 0,\n",
       " 'retMsg': 'OK',\n",
       " 'result': {'marginMode': 'REGULAR_MARGIN',\n",
       "  'updatedTime': '1704457800000',\n",
       "  'unifiedMarginStatus': 3,\n",
       "  'dcpStatus': 'OFF',\n",
       "  'timeWindow': 0,\n",
       "  'smpGroup': 0,\n",
       "  'isMasterTrader': False,\n",
       "  'spotHedgingStatus': 'OFF'}}"
      ]
     },
     "metadata": {},
     "output_type": "display_data"
    }
   ],
   "source": [
    "display(session.get_account_info())"
   ]
  },
  {
   "cell_type": "code",
   "execution_count": null,
   "metadata": {},
   "outputs": [
    {
     "name": "stdout",
     "output_type": "stream",
     "text": [
      "Response: {'retCode': 10004, 'retMsg': 'error sign! origin_string[173202029861638tUZ6eiwAKOoyzkMp5000{\"setHedgingMode\": \"ON\"}]', 'result': {}, 'retExtInfo': {}, 'time': 1732020299428}\n"
     ]
    }
   ],
   "source": [
    "import time\n",
    "import hmac\n",
    "import hashlib\n",
    "import requests\n",
    "\n",
    "# Ваши ключи API\n",
    "api_key = \"YOUR_API_KEY\"\n",
    "api_secret = \"YOUR_API_SECRET\"\n",
    "\n",
    "# Базовый URL (используйте https://api.bybit.com для основной сети)\n",
    "base_url = \"https://api-testnet.bybit.com\"\n",
    "\n",
    "# Конечная точка API\n",
    "endpoint = \"/v5/account/set-hedging-mode\"\n",
    "url = f\"{base_url}{endpoint}\"\n",
    "\n",
    "# Заголовки и параметры\n",
    "timestamp = str(int(time.time() * 1000))  # Текущий таймстамп в миллисекундах\n",
    "recv_window = \"5000\"  # Время для предотвращения тайм-аутов\n",
    "\n",
    "# Тело запроса\n",
    "payload = {\n",
    "    \"setHedgingMode\": \"ON\" \n",
    "}\n",
    "\n",
    "api_key=os.getenv('BYBIT_KEY_test')\n",
    "api_secret=os.getenv('BYBIT_SECRET_test')\n",
    "\n",
    "# Создание строки для подписи\n",
    "query_string = f\"api_key={api_key}&recv_window={recv_window}&timestamp={timestamp}\"\n",
    "signature_payload = f\"{query_string}{str(payload).replace(' ', '')}\"\n",
    "signature = hmac.new(\n",
    "    bytes(api_secret, 'utf-8'),\n",
    "    msg=bytes(signature_payload, 'utf-8'),\n",
    "    digestmod=hashlib.sha256\n",
    ").hexdigest()\n",
    "\n",
    "# Заголовки\n",
    "headers = {\n",
    "    \"X-BAPI-API-KEY\": api_key,\n",
    "    \"X-BAPI-TIMESTAMP\": timestamp,\n",
    "    \"X-BAPI-RECV-WINDOW\": recv_window,\n",
    "    \"X-BAPI-SIGN\": signature,\n",
    "    \"Content-Type\": \"application/json\"\n",
    "}\n",
    "\n",
    "# Выполнение POST-запроса\n",
    "response = requests.post(url, headers=headers, json=payload)\n",
    "\n",
    "# Вывод результата\n",
    "if response.status_code == 200:\n",
    "    print(\"Response:\", response.json())\n",
    "else:\n",
    "    print(\"Error:\", response.status_code, response.text)"
   ]
  },
  {
   "cell_type": "code",
   "execution_count": null,
   "metadata": {},
   "outputs": [],
   "source": []
  },
  {
   "cell_type": "markdown",
   "metadata": {},
   "source": [
    "__supporting functions__"
   ]
  },
  {
   "cell_type": "code",
   "execution_count": 14,
   "metadata": {},
   "outputs": [
    {
     "data": {
      "text/plain": [
       "{'retCode': 0,\n",
       " 'retMsg': 'OK',\n",
       " 'result': {},\n",
       " 'retExtInfo': {},\n",
       " 'time': 1731949097654}"
      ]
     },
     "execution_count": 14,
     "metadata": {},
     "output_type": "execute_result"
    }
   ],
   "source": [
    "session.switch_position_mode(\n",
    "    category=\"linear\",\n",
    "    symbol=\"BTCUSDT\",\n",
    "    mode=0,\n",
    ")"
   ]
  },
  {
   "cell_type": "code",
   "execution_count": null,
   "metadata": {},
   "outputs": [],
   "source": []
  },
  {
   "cell_type": "code",
   "execution_count": null,
   "metadata": {},
   "outputs": [],
   "source": []
  },
  {
   "cell_type": "code",
   "execution_count": null,
   "metadata": {},
   "outputs": [],
   "source": []
  },
  {
   "cell_type": "code",
   "execution_count": null,
   "metadata": {},
   "outputs": [],
   "source": []
  },
  {
   "cell_type": "markdown",
   "metadata": {},
   "source": [
    "## __Market API__"
   ]
  },
  {
   "cell_type": "markdown",
   "metadata": {},
   "source": [
    "__getting bybit server time__"
   ]
  },
  {
   "cell_type": "code",
   "execution_count": 6,
   "metadata": {},
   "outputs": [
    {
     "data": {
      "text/plain": [
       "(Timestamp('2024-11-14 19:56:20'), Timestamp('2024-11-14 19:56:20'))"
      ]
     },
     "execution_count": 6,
     "metadata": {},
     "output_type": "execute_result"
    }
   ],
   "source": [
    "src_API.get_server_time(client)"
   ]
  },
  {
   "cell_type": "code",
   "execution_count": 7,
   "metadata": {},
   "outputs": [
    {
     "name": "stdout",
     "output_type": "stream",
     "text": [
      "2024-11-14 19:53:23\n",
      "2024-11-14 19:55:23\n"
     ]
    }
   ],
   "source": [
    "# FOR TESTING!!! DO NOT DROP !!!\n",
    "start = str((datetime.datetime.today() - datetime.timedelta(hours=0, minutes=3)))[:-7]\n",
    "print(start)\n",
    "start = src_API.convert_dt_to_timestamp(start)\n",
    "end = str((datetime.datetime.today() - datetime.timedelta(hours=0, minutes=1)))[:-7]\n",
    "print(end)\n",
    "end = src_API.convert_dt_to_timestamp(end)\n"
   ]
  },
  {
   "cell_type": "markdown",
   "metadata": {},
   "source": [
    "__getting historical data__"
   ]
  },
  {
   "cell_type": "code",
   "execution_count": 8,
   "metadata": {},
   "outputs": [
    {
     "data": {
      "text/html": [
       "<div>\n",
       "<style scoped>\n",
       "    .dataframe tbody tr th:only-of-type {\n",
       "        vertical-align: middle;\n",
       "    }\n",
       "\n",
       "    .dataframe tbody tr th {\n",
       "        vertical-align: top;\n",
       "    }\n",
       "\n",
       "    .dataframe thead th {\n",
       "        text-align: right;\n",
       "    }\n",
       "</style>\n",
       "<table border=\"1\" class=\"dataframe\">\n",
       "  <thead>\n",
       "    <tr style=\"text-align: right;\">\n",
       "      <th></th>\n",
       "      <th>datetime</th>\n",
       "      <th>timestamp</th>\n",
       "      <th>open</th>\n",
       "      <th>high</th>\n",
       "      <th>low</th>\n",
       "      <th>close</th>\n",
       "      <th>volume</th>\n",
       "      <th>turnover</th>\n",
       "    </tr>\n",
       "  </thead>\n",
       "  <tbody>\n",
       "    <tr>\n",
       "      <th>0</th>\n",
       "      <td>2024-11-14 19:57:00</td>\n",
       "      <td>1731592620000</td>\n",
       "      <td>91621</td>\n",
       "      <td>91621</td>\n",
       "      <td>90300.5</td>\n",
       "      <td>91208</td>\n",
       "      <td>37372</td>\n",
       "      <td>0.41168958</td>\n",
       "    </tr>\n",
       "    <tr>\n",
       "      <th>1</th>\n",
       "      <td>2024-11-14 19:56:00</td>\n",
       "      <td>1731592560000</td>\n",
       "      <td>90258</td>\n",
       "      <td>91621</td>\n",
       "      <td>89806.5</td>\n",
       "      <td>91621</td>\n",
       "      <td>30945</td>\n",
       "      <td>0.34079649</td>\n",
       "    </tr>\n",
       "    <tr>\n",
       "      <th>2</th>\n",
       "      <td>2024-11-14 19:55:00</td>\n",
       "      <td>1731592500000</td>\n",
       "      <td>90258</td>\n",
       "      <td>91165</td>\n",
       "      <td>90258</td>\n",
       "      <td>90258</td>\n",
       "      <td>47210</td>\n",
       "      <td>0.51955734</td>\n",
       "    </tr>\n",
       "    <tr>\n",
       "      <th>3</th>\n",
       "      <td>2024-11-14 19:54:00</td>\n",
       "      <td>1731592440000</td>\n",
       "      <td>90836</td>\n",
       "      <td>91290</td>\n",
       "      <td>89932</td>\n",
       "      <td>90258</td>\n",
       "      <td>82600</td>\n",
       "      <td>0.91298794</td>\n",
       "    </tr>\n",
       "  </tbody>\n",
       "</table>\n",
       "</div>"
      ],
      "text/plain": [
       "             datetime      timestamp   open   high      low  close volume  \\\n",
       "0 2024-11-14 19:57:00  1731592620000  91621  91621  90300.5  91208  37372   \n",
       "1 2024-11-14 19:56:00  1731592560000  90258  91621  89806.5  91621  30945   \n",
       "2 2024-11-14 19:55:00  1731592500000  90258  91165    90258  90258  47210   \n",
       "3 2024-11-14 19:54:00  1731592440000  90836  91290    89932  90258  82600   \n",
       "\n",
       "     turnover  \n",
       "0  0.41168958  \n",
       "1  0.34079649  \n",
       "2  0.51955734  \n",
       "3  0.91298794  "
      ]
     },
     "execution_count": 8,
     "metadata": {},
     "output_type": "execute_result"
    }
   ],
   "source": [
    "# spot,linear,inverse\n",
    "# 1,3,5,15,30,60,120,240,360,720,D,M,W\n",
    "src_API.get_kline(client, 'linear', 'BTCUSD', 1, start=start, limit=1000)"
   ]
  },
  {
   "cell_type": "markdown",
   "metadata": {},
   "source": [
    "__getting <u>!mark (global spot price)!</u> historical data__"
   ]
  },
  {
   "cell_type": "code",
   "execution_count": 9,
   "metadata": {},
   "outputs": [
    {
     "ename": "AttributeError",
     "evalue": "module 'src_API' has no attribute 'get_mark_price_line'",
     "output_type": "error",
     "traceback": [
      "\u001b[1;31m---------------------------------------------------------------------------\u001b[0m",
      "\u001b[1;31mAttributeError\u001b[0m                            Traceback (most recent call last)",
      "Cell \u001b[1;32mIn[9], line 3\u001b[0m\n\u001b[0;32m      1\u001b[0m \u001b[38;5;66;03m# linear,inverse\u001b[39;00m\n\u001b[0;32m      2\u001b[0m \u001b[38;5;66;03m# 1,3,5,15,30,60,120,240,360,720,D,M,W\u001b[39;00m\n\u001b[1;32m----> 3\u001b[0m \u001b[43msrc_API\u001b[49m\u001b[38;5;241;43m.\u001b[39;49m\u001b[43mget_mark_price_line\u001b[49m(client, \u001b[38;5;124m'\u001b[39m\u001b[38;5;124mlinear\u001b[39m\u001b[38;5;124m'\u001b[39m, \u001b[38;5;124m'\u001b[39m\u001b[38;5;124mBTCUSD\u001b[39m\u001b[38;5;124m'\u001b[39m, \u001b[38;5;241m1\u001b[39m, start\u001b[38;5;241m=\u001b[39mstart, limit\u001b[38;5;241m=\u001b[39m\u001b[38;5;241m1000\u001b[39m)\n",
      "\u001b[1;31mAttributeError\u001b[0m: module 'src_API' has no attribute 'get_mark_price_line'"
     ]
    }
   ],
   "source": [
    "# linear,inverse\n",
    "# 1,3,5,15,30,60,120,240,360,720,D,M,W\n",
    "src_API.get_mark_price_line(client, 'linear', 'BTCUSD', 1, start=start, limit=1000)"
   ]
  },
  {
   "cell_type": "markdown",
   "metadata": {},
   "source": [
    "__getting <u>!index price!</u> historical data__ "
   ]
  },
  {
   "cell_type": "code",
   "execution_count": 10,
   "metadata": {},
   "outputs": [
    {
     "data": {
      "text/html": [
       "<div>\n",
       "<style scoped>\n",
       "    .dataframe tbody tr th:only-of-type {\n",
       "        vertical-align: middle;\n",
       "    }\n",
       "\n",
       "    .dataframe tbody tr th {\n",
       "        vertical-align: top;\n",
       "    }\n",
       "\n",
       "    .dataframe thead th {\n",
       "        text-align: right;\n",
       "    }\n",
       "</style>\n",
       "<table border=\"1\" class=\"dataframe\">\n",
       "  <thead>\n",
       "    <tr style=\"text-align: right;\">\n",
       "      <th></th>\n",
       "      <th>datetime</th>\n",
       "      <th>timestamp</th>\n",
       "      <th>open</th>\n",
       "      <th>high</th>\n",
       "      <th>low</th>\n",
       "      <th>close</th>\n",
       "    </tr>\n",
       "  </thead>\n",
       "  <tbody>\n",
       "    <tr>\n",
       "      <th>0</th>\n",
       "      <td>2024-11-14 19:57:00</td>\n",
       "      <td>1731592620000</td>\n",
       "      <td>90771.46</td>\n",
       "      <td>90790.06</td>\n",
       "      <td>90713.14</td>\n",
       "      <td>90718.3</td>\n",
       "    </tr>\n",
       "    <tr>\n",
       "      <th>1</th>\n",
       "      <td>2024-11-14 19:56:00</td>\n",
       "      <td>1731592560000</td>\n",
       "      <td>90692.6</td>\n",
       "      <td>90795.77</td>\n",
       "      <td>90686.79</td>\n",
       "      <td>90771.46</td>\n",
       "    </tr>\n",
       "    <tr>\n",
       "      <th>2</th>\n",
       "      <td>2024-11-14 19:55:00</td>\n",
       "      <td>1731592500000</td>\n",
       "      <td>90734.08</td>\n",
       "      <td>90760.3</td>\n",
       "      <td>90681</td>\n",
       "      <td>90692.6</td>\n",
       "    </tr>\n",
       "    <tr>\n",
       "      <th>3</th>\n",
       "      <td>2024-11-14 19:54:00</td>\n",
       "      <td>1731592440000</td>\n",
       "      <td>90778.27</td>\n",
       "      <td>90823.01</td>\n",
       "      <td>90727.01</td>\n",
       "      <td>90734.08</td>\n",
       "    </tr>\n",
       "  </tbody>\n",
       "</table>\n",
       "</div>"
      ],
      "text/plain": [
       "             datetime      timestamp      open      high       low     close\n",
       "0 2024-11-14 19:57:00  1731592620000  90771.46  90790.06  90713.14   90718.3\n",
       "1 2024-11-14 19:56:00  1731592560000   90692.6  90795.77  90686.79  90771.46\n",
       "2 2024-11-14 19:55:00  1731592500000  90734.08   90760.3     90681   90692.6\n",
       "3 2024-11-14 19:54:00  1731592440000  90778.27  90823.01  90727.01  90734.08"
      ]
     },
     "execution_count": 10,
     "metadata": {},
     "output_type": "execute_result"
    }
   ],
   "source": [
    "src_API.get_index_price_kline(client, 'linear', 'BTCUSD', 1, start=start, limit=1000)"
   ]
  },
  {
   "cell_type": "markdown",
   "metadata": {},
   "source": [
    "__getting <u>!premium index price!</u> historical data__ "
   ]
  },
  {
   "cell_type": "code",
   "execution_count": 28,
   "metadata": {},
   "outputs": [
    {
     "data": {
      "text/html": [
       "<div>\n",
       "<style scoped>\n",
       "    .dataframe tbody tr th:only-of-type {\n",
       "        vertical-align: middle;\n",
       "    }\n",
       "\n",
       "    .dataframe tbody tr th {\n",
       "        vertical-align: top;\n",
       "    }\n",
       "\n",
       "    .dataframe thead th {\n",
       "        text-align: right;\n",
       "    }\n",
       "</style>\n",
       "<table border=\"1\" class=\"dataframe\">\n",
       "  <thead>\n",
       "    <tr style=\"text-align: right;\">\n",
       "      <th></th>\n",
       "      <th>datetime</th>\n",
       "      <th>timestamp</th>\n",
       "      <th>open</th>\n",
       "      <th>high</th>\n",
       "      <th>low</th>\n",
       "      <th>close</th>\n",
       "    </tr>\n",
       "  </thead>\n",
       "  <tbody>\n",
       "    <tr>\n",
       "      <th>0</th>\n",
       "      <td>2024-02-16 14:30:00</td>\n",
       "      <td>1708093800000</td>\n",
       "      <td>0.00000000</td>\n",
       "      <td>0.00000000</td>\n",
       "      <td>0.00000000</td>\n",
       "      <td>0.00000000</td>\n",
       "    </tr>\n",
       "    <tr>\n",
       "      <th>1</th>\n",
       "      <td>2024-02-16 14:29:00</td>\n",
       "      <td>1708093740000</td>\n",
       "      <td>0.00000000</td>\n",
       "      <td>0.00000000</td>\n",
       "      <td>0.00000000</td>\n",
       "      <td>0.00000000</td>\n",
       "    </tr>\n",
       "  </tbody>\n",
       "</table>\n",
       "</div>"
      ],
      "text/plain": [
       "             datetime      timestamp        open        high         low  \\\n",
       "0 2024-02-16 14:30:00  1708093800000  0.00000000  0.00000000  0.00000000   \n",
       "1 2024-02-16 14:29:00  1708093740000  0.00000000  0.00000000  0.00000000   \n",
       "\n",
       "        close  \n",
       "0  0.00000000  \n",
       "1  0.00000000  "
      ]
     },
     "execution_count": 28,
     "metadata": {},
     "output_type": "execute_result"
    }
   ],
   "source": [
    "reload(src_API)\n",
    "src_API.get_premium_index_price_kline(client, 'linear', 'BTCUSD', 1, start=start, limit=1000)"
   ]
  },
  {
   "cell_type": "markdown",
   "metadata": {},
   "source": [
    "__getting orderbook__  \n",
    "I do not know why this is necessary, but may be latter..."
   ]
  },
  {
   "cell_type": "code",
   "execution_count": 12,
   "metadata": {},
   "outputs": [
    {
     "data": {
      "text/html": [
       "<div>\n",
       "<style scoped>\n",
       "    .dataframe tbody tr th:only-of-type {\n",
       "        vertical-align: middle;\n",
       "    }\n",
       "\n",
       "    .dataframe tbody tr th {\n",
       "        vertical-align: top;\n",
       "    }\n",
       "\n",
       "    .dataframe thead th {\n",
       "        text-align: right;\n",
       "    }\n",
       "</style>\n",
       "<table border=\"1\" class=\"dataframe\">\n",
       "  <thead>\n",
       "    <tr style=\"text-align: right;\">\n",
       "      <th></th>\n",
       "      <th>s</th>\n",
       "      <th>a</th>\n",
       "      <th>b</th>\n",
       "      <th>ts</th>\n",
       "      <th>u</th>\n",
       "      <th>datetime</th>\n",
       "    </tr>\n",
       "  </thead>\n",
       "  <tbody>\n",
       "    <tr>\n",
       "      <th>0</th>\n",
       "      <td>BTCUSDT</td>\n",
       "      <td>[85562.32, 2.960106]</td>\n",
       "      <td>[85559, 0.02002]</td>\n",
       "      <td>1731419406680</td>\n",
       "      <td>1134014</td>\n",
       "      <td>2024-11-12 13:50:06.680</td>\n",
       "    </tr>\n",
       "    <tr>\n",
       "      <th>1</th>\n",
       "      <td>BTCUSDT</td>\n",
       "      <td>[85562.97, 0.000062]</td>\n",
       "      <td>[85556.93, 0.278106]</td>\n",
       "      <td>1731419406680</td>\n",
       "      <td>1134014</td>\n",
       "      <td>2024-11-12 13:50:06.680</td>\n",
       "    </tr>\n",
       "    <tr>\n",
       "      <th>2</th>\n",
       "      <td>BTCUSDT</td>\n",
       "      <td>[85583.51, 0.425942]</td>\n",
       "      <td>[85394.32, 0.010466]</td>\n",
       "      <td>1731419406680</td>\n",
       "      <td>1134014</td>\n",
       "      <td>2024-11-12 13:50:06.680</td>\n",
       "    </tr>\n",
       "  </tbody>\n",
       "</table>\n",
       "</div>"
      ],
      "text/plain": [
       "         s                     a                     b             ts  \\\n",
       "0  BTCUSDT  [85562.32, 2.960106]      [85559, 0.02002]  1731419406680   \n",
       "1  BTCUSDT  [85562.97, 0.000062]  [85556.93, 0.278106]  1731419406680   \n",
       "2  BTCUSDT  [85583.51, 0.425942]  [85394.32, 0.010466]  1731419406680   \n",
       "\n",
       "         u                datetime  \n",
       "0  1134014 2024-11-12 13:50:06.680  \n",
       "1  1134014 2024-11-12 13:50:06.680  \n",
       "2  1134014 2024-11-12 13:50:06.680  "
      ]
     },
     "execution_count": 12,
     "metadata": {},
     "output_type": "execute_result"
    }
   ],
   "source": [
    "src_API.get_orderbook(client, 'spot', 'BTCUSDT', limit=3)"
   ]
  },
  {
   "cell_type": "markdown",
   "metadata": {},
   "source": [
    "__Getting Public Recent Trading History__  \n",
    "actual price ???"
   ]
  },
  {
   "cell_type": "code",
   "execution_count": 13,
   "metadata": {},
   "outputs": [
    {
     "data": {
      "text/html": [
       "<div>\n",
       "<style scoped>\n",
       "    .dataframe tbody tr th:only-of-type {\n",
       "        vertical-align: middle;\n",
       "    }\n",
       "\n",
       "    .dataframe tbody tr th {\n",
       "        vertical-align: top;\n",
       "    }\n",
       "\n",
       "    .dataframe thead th {\n",
       "        text-align: right;\n",
       "    }\n",
       "</style>\n",
       "<table border=\"1\" class=\"dataframe\">\n",
       "  <thead>\n",
       "    <tr style=\"text-align: right;\">\n",
       "      <th></th>\n",
       "      <th>execId</th>\n",
       "      <th>symbol</th>\n",
       "      <th>price</th>\n",
       "      <th>size</th>\n",
       "      <th>side</th>\n",
       "      <th>time</th>\n",
       "      <th>isBlockTrade</th>\n",
       "    </tr>\n",
       "  </thead>\n",
       "  <tbody>\n",
       "    <tr>\n",
       "      <th>0</th>\n",
       "      <td>2100000000100416436</td>\n",
       "      <td>BTCUSDT</td>\n",
       "      <td>85560.88</td>\n",
       "      <td>0.000164</td>\n",
       "      <td>Sell</td>\n",
       "      <td>2024-11-12 13:49:55.664</td>\n",
       "      <td>False</td>\n",
       "    </tr>\n",
       "    <tr>\n",
       "      <th>1</th>\n",
       "      <td>2100000000100416435</td>\n",
       "      <td>BTCUSDT</td>\n",
       "      <td>85561.25</td>\n",
       "      <td>0.000151</td>\n",
       "      <td>Sell</td>\n",
       "      <td>2024-11-12 13:49:25.302</td>\n",
       "      <td>False</td>\n",
       "    </tr>\n",
       "    <tr>\n",
       "      <th>2</th>\n",
       "      <td>2100000000100416434</td>\n",
       "      <td>BTCUSDT</td>\n",
       "      <td>85561.2</td>\n",
       "      <td>0.00016</td>\n",
       "      <td>Buy</td>\n",
       "      <td>2024-11-12 13:48:53.140</td>\n",
       "      <td>False</td>\n",
       "    </tr>\n",
       "  </tbody>\n",
       "</table>\n",
       "</div>"
      ],
      "text/plain": [
       "                execId   symbol     price      size  side  \\\n",
       "0  2100000000100416436  BTCUSDT  85560.88  0.000164  Sell   \n",
       "1  2100000000100416435  BTCUSDT  85561.25  0.000151  Sell   \n",
       "2  2100000000100416434  BTCUSDT   85561.2   0.00016   Buy   \n",
       "\n",
       "                     time  isBlockTrade  \n",
       "0 2024-11-12 13:49:55.664         False  \n",
       "1 2024-11-12 13:49:25.302         False  \n",
       "2 2024-11-12 13:48:53.140         False  "
      ]
     },
     "execution_count": 13,
     "metadata": {},
     "output_type": "execute_result"
    }
   ],
   "source": [
    "src_API.get_public_trade_history(client, 'spot', 'BTCUSDT', optionType='Put', limit=3)"
   ]
  },
  {
   "cell_type": "markdown",
   "metadata": {},
   "source": [
    "__Get Historical Volatility__   \n",
    "period only 30+ ???"
   ]
  },
  {
   "cell_type": "code",
   "execution_count": 14,
   "metadata": {},
   "outputs": [
    {
     "data": {
      "text/html": [
       "<div>\n",
       "<style scoped>\n",
       "    .dataframe tbody tr th:only-of-type {\n",
       "        vertical-align: middle;\n",
       "    }\n",
       "\n",
       "    .dataframe tbody tr th {\n",
       "        vertical-align: top;\n",
       "    }\n",
       "\n",
       "    .dataframe thead th {\n",
       "        text-align: right;\n",
       "    }\n",
       "</style>\n",
       "<table border=\"1\" class=\"dataframe\">\n",
       "  <thead>\n",
       "    <tr style=\"text-align: right;\">\n",
       "      <th></th>\n",
       "      <th>period</th>\n",
       "      <th>value</th>\n",
       "      <th>time</th>\n",
       "    </tr>\n",
       "  </thead>\n",
       "  <tbody>\n",
       "  </tbody>\n",
       "</table>\n",
       "</div>"
      ],
      "text/plain": [
       "Empty DataFrame\n",
       "Columns: [period, value, time]\n",
       "Index: []"
      ]
     },
     "execution_count": 14,
     "metadata": {},
     "output_type": "execute_result"
    }
   ],
   "source": [
    "src_API.get_historical_volatility(client, 'option', period=30, startTime=start, endTime=end)"
   ]
  },
  {
   "cell_type": "markdown",
   "metadata": {},
   "source": [
    "__Get Insurance__  \n",
    "Query for Bybit insurance pool data (BTC/USDT/USDC etc). The data is updated every 24 hours."
   ]
  },
  {
   "cell_type": "code",
   "execution_count": 15,
   "metadata": {},
   "outputs": [
    {
     "ename": "ValueError",
     "evalue": "cannot convert float NaN to integer",
     "output_type": "error",
     "traceback": [
      "\u001b[1;31m---------------------------------------------------------------------------\u001b[0m",
      "\u001b[1;31mValueError\u001b[0m                                Traceback (most recent call last)",
      "Cell \u001b[1;32mIn[15], line 1\u001b[0m\n\u001b[1;32m----> 1\u001b[0m \u001b[43msrc_API\u001b[49m\u001b[38;5;241;43m.\u001b[39;49m\u001b[43mget_insurance\u001b[49m\u001b[43m(\u001b[49m\u001b[43mclient\u001b[49m\u001b[43m,\u001b[49m\u001b[43m \u001b[49m\u001b[38;5;124;43m'\u001b[39;49m\u001b[38;5;124;43mBTC\u001b[39;49m\u001b[38;5;124;43m'\u001b[39;49m\u001b[43m)\u001b[49m\n",
      "File \u001b[1;32md:\\myGit\\Tumar\\artefacts\\notebooks\\../../src\\src_API.py:284\u001b[0m, in \u001b[0;36mget_insurance\u001b[1;34m(client, coin)\u001b[0m\n\u001b[0;32m    282\u001b[0m data\u001b[38;5;241m.\u001b[39mloc[\u001b[38;5;241m0\u001b[39m, \u001b[38;5;124m'\u001b[39m\u001b[38;5;124mupdatedTime\u001b[39m\u001b[38;5;124m'\u001b[39m] \u001b[38;5;241m=\u001b[39m response\u001b[38;5;241m.\u001b[39mget(\u001b[38;5;124m'\u001b[39m\u001b[38;5;124mupdatedTime\u001b[39m\u001b[38;5;124m'\u001b[39m)\n\u001b[0;32m    283\u001b[0m f \u001b[38;5;241m=\u001b[39m \u001b[38;5;28;01mlambda\u001b[39;00m x: datetime\u001b[38;5;241m.\u001b[39mutcfromtimestamp(\u001b[38;5;28mint\u001b[39m(x)\u001b[38;5;241m/\u001b[39m\u001b[38;5;241m1000\u001b[39m)\n\u001b[1;32m--> 284\u001b[0m data[\u001b[38;5;124m'\u001b[39m\u001b[38;5;124mupdatedTime\u001b[39m\u001b[38;5;124m'\u001b[39m] \u001b[38;5;241m=\u001b[39m \u001b[43mdata\u001b[49m\u001b[38;5;241;43m.\u001b[39;49m\u001b[43mupdatedTime\u001b[49m\u001b[38;5;241;43m.\u001b[39;49m\u001b[43mapply\u001b[49m\u001b[43m(\u001b[49m\u001b[43mf\u001b[49m\u001b[43m)\u001b[49m\n\u001b[0;32m    285\u001b[0m \u001b[38;5;28;01mreturn\u001b[39;00m data\n",
      "File \u001b[1;32mc:\\Users\\sorok\\AppData\\Local\\Programs\\Python\\Python311\\Lib\\site-packages\\pandas\\core\\series.py:4904\u001b[0m, in \u001b[0;36mSeries.apply\u001b[1;34m(self, func, convert_dtype, args, by_row, **kwargs)\u001b[0m\n\u001b[0;32m   4769\u001b[0m \u001b[38;5;28;01mdef\u001b[39;00m \u001b[38;5;21mapply\u001b[39m(\n\u001b[0;32m   4770\u001b[0m     \u001b[38;5;28mself\u001b[39m,\n\u001b[0;32m   4771\u001b[0m     func: AggFuncType,\n\u001b[1;32m   (...)\u001b[0m\n\u001b[0;32m   4776\u001b[0m     \u001b[38;5;241m*\u001b[39m\u001b[38;5;241m*\u001b[39mkwargs,\n\u001b[0;32m   4777\u001b[0m ) \u001b[38;5;241m-\u001b[39m\u001b[38;5;241m>\u001b[39m DataFrame \u001b[38;5;241m|\u001b[39m Series:\n\u001b[0;32m   4778\u001b[0m \u001b[38;5;250m    \u001b[39m\u001b[38;5;124;03m\"\"\"\u001b[39;00m\n\u001b[0;32m   4779\u001b[0m \u001b[38;5;124;03m    Invoke function on values of Series.\u001b[39;00m\n\u001b[0;32m   4780\u001b[0m \n\u001b[1;32m   (...)\u001b[0m\n\u001b[0;32m   4895\u001b[0m \u001b[38;5;124;03m    dtype: float64\u001b[39;00m\n\u001b[0;32m   4896\u001b[0m \u001b[38;5;124;03m    \"\"\"\u001b[39;00m\n\u001b[0;32m   4897\u001b[0m     \u001b[38;5;28;01mreturn\u001b[39;00m \u001b[43mSeriesApply\u001b[49m\u001b[43m(\u001b[49m\n\u001b[0;32m   4898\u001b[0m \u001b[43m        \u001b[49m\u001b[38;5;28;43mself\u001b[39;49m\u001b[43m,\u001b[49m\n\u001b[0;32m   4899\u001b[0m \u001b[43m        \u001b[49m\u001b[43mfunc\u001b[49m\u001b[43m,\u001b[49m\n\u001b[0;32m   4900\u001b[0m \u001b[43m        \u001b[49m\u001b[43mconvert_dtype\u001b[49m\u001b[38;5;241;43m=\u001b[39;49m\u001b[43mconvert_dtype\u001b[49m\u001b[43m,\u001b[49m\n\u001b[0;32m   4901\u001b[0m \u001b[43m        \u001b[49m\u001b[43mby_row\u001b[49m\u001b[38;5;241;43m=\u001b[39;49m\u001b[43mby_row\u001b[49m\u001b[43m,\u001b[49m\n\u001b[0;32m   4902\u001b[0m \u001b[43m        \u001b[49m\u001b[43margs\u001b[49m\u001b[38;5;241;43m=\u001b[39;49m\u001b[43margs\u001b[49m\u001b[43m,\u001b[49m\n\u001b[0;32m   4903\u001b[0m \u001b[43m        \u001b[49m\u001b[43mkwargs\u001b[49m\u001b[38;5;241;43m=\u001b[39;49m\u001b[43mkwargs\u001b[49m\u001b[43m,\u001b[49m\n\u001b[1;32m-> 4904\u001b[0m \u001b[43m    \u001b[49m\u001b[43m)\u001b[49m\u001b[38;5;241;43m.\u001b[39;49m\u001b[43mapply\u001b[49m\u001b[43m(\u001b[49m\u001b[43m)\u001b[49m\n",
      "File \u001b[1;32mc:\\Users\\sorok\\AppData\\Local\\Programs\\Python\\Python311\\Lib\\site-packages\\pandas\\core\\apply.py:1427\u001b[0m, in \u001b[0;36mSeriesApply.apply\u001b[1;34m(self)\u001b[0m\n\u001b[0;32m   1424\u001b[0m     \u001b[38;5;28;01mreturn\u001b[39;00m \u001b[38;5;28mself\u001b[39m\u001b[38;5;241m.\u001b[39mapply_compat()\n\u001b[0;32m   1426\u001b[0m \u001b[38;5;66;03m# self.func is Callable\u001b[39;00m\n\u001b[1;32m-> 1427\u001b[0m \u001b[38;5;28;01mreturn\u001b[39;00m \u001b[38;5;28;43mself\u001b[39;49m\u001b[38;5;241;43m.\u001b[39;49m\u001b[43mapply_standard\u001b[49m\u001b[43m(\u001b[49m\u001b[43m)\u001b[49m\n",
      "File \u001b[1;32mc:\\Users\\sorok\\AppData\\Local\\Programs\\Python\\Python311\\Lib\\site-packages\\pandas\\core\\apply.py:1507\u001b[0m, in \u001b[0;36mSeriesApply.apply_standard\u001b[1;34m(self)\u001b[0m\n\u001b[0;32m   1501\u001b[0m \u001b[38;5;66;03m# row-wise access\u001b[39;00m\n\u001b[0;32m   1502\u001b[0m \u001b[38;5;66;03m# apply doesn't have a `na_action` keyword and for backward compat reasons\u001b[39;00m\n\u001b[0;32m   1503\u001b[0m \u001b[38;5;66;03m# we need to give `na_action=\"ignore\"` for categorical data.\u001b[39;00m\n\u001b[0;32m   1504\u001b[0m \u001b[38;5;66;03m# TODO: remove the `na_action=\"ignore\"` when that default has been changed in\u001b[39;00m\n\u001b[0;32m   1505\u001b[0m \u001b[38;5;66;03m#  Categorical (GH51645).\u001b[39;00m\n\u001b[0;32m   1506\u001b[0m action \u001b[38;5;241m=\u001b[39m \u001b[38;5;124m\"\u001b[39m\u001b[38;5;124mignore\u001b[39m\u001b[38;5;124m\"\u001b[39m \u001b[38;5;28;01mif\u001b[39;00m \u001b[38;5;28misinstance\u001b[39m(obj\u001b[38;5;241m.\u001b[39mdtype, CategoricalDtype) \u001b[38;5;28;01melse\u001b[39;00m \u001b[38;5;28;01mNone\u001b[39;00m\n\u001b[1;32m-> 1507\u001b[0m mapped \u001b[38;5;241m=\u001b[39m \u001b[43mobj\u001b[49m\u001b[38;5;241;43m.\u001b[39;49m\u001b[43m_map_values\u001b[49m\u001b[43m(\u001b[49m\n\u001b[0;32m   1508\u001b[0m \u001b[43m    \u001b[49m\u001b[43mmapper\u001b[49m\u001b[38;5;241;43m=\u001b[39;49m\u001b[43mcurried\u001b[49m\u001b[43m,\u001b[49m\u001b[43m \u001b[49m\u001b[43mna_action\u001b[49m\u001b[38;5;241;43m=\u001b[39;49m\u001b[43maction\u001b[49m\u001b[43m,\u001b[49m\u001b[43m \u001b[49m\u001b[43mconvert\u001b[49m\u001b[38;5;241;43m=\u001b[39;49m\u001b[38;5;28;43mself\u001b[39;49m\u001b[38;5;241;43m.\u001b[39;49m\u001b[43mconvert_dtype\u001b[49m\n\u001b[0;32m   1509\u001b[0m \u001b[43m\u001b[49m\u001b[43m)\u001b[49m\n\u001b[0;32m   1511\u001b[0m \u001b[38;5;28;01mif\u001b[39;00m \u001b[38;5;28mlen\u001b[39m(mapped) \u001b[38;5;129;01mand\u001b[39;00m \u001b[38;5;28misinstance\u001b[39m(mapped[\u001b[38;5;241m0\u001b[39m], ABCSeries):\n\u001b[0;32m   1512\u001b[0m     \u001b[38;5;66;03m# GH#43986 Need to do list(mapped) in order to get treated as nested\u001b[39;00m\n\u001b[0;32m   1513\u001b[0m     \u001b[38;5;66;03m#  See also GH#25959 regarding EA support\u001b[39;00m\n\u001b[0;32m   1514\u001b[0m     \u001b[38;5;28;01mreturn\u001b[39;00m obj\u001b[38;5;241m.\u001b[39m_constructor_expanddim(\u001b[38;5;28mlist\u001b[39m(mapped), index\u001b[38;5;241m=\u001b[39mobj\u001b[38;5;241m.\u001b[39mindex)\n",
      "File \u001b[1;32mc:\\Users\\sorok\\AppData\\Local\\Programs\\Python\\Python311\\Lib\\site-packages\\pandas\\core\\base.py:921\u001b[0m, in \u001b[0;36mIndexOpsMixin._map_values\u001b[1;34m(self, mapper, na_action, convert)\u001b[0m\n\u001b[0;32m    918\u001b[0m \u001b[38;5;28;01mif\u001b[39;00m \u001b[38;5;28misinstance\u001b[39m(arr, ExtensionArray):\n\u001b[0;32m    919\u001b[0m     \u001b[38;5;28;01mreturn\u001b[39;00m arr\u001b[38;5;241m.\u001b[39mmap(mapper, na_action\u001b[38;5;241m=\u001b[39mna_action)\n\u001b[1;32m--> 921\u001b[0m \u001b[38;5;28;01mreturn\u001b[39;00m \u001b[43malgorithms\u001b[49m\u001b[38;5;241;43m.\u001b[39;49m\u001b[43mmap_array\u001b[49m\u001b[43m(\u001b[49m\u001b[43marr\u001b[49m\u001b[43m,\u001b[49m\u001b[43m \u001b[49m\u001b[43mmapper\u001b[49m\u001b[43m,\u001b[49m\u001b[43m \u001b[49m\u001b[43mna_action\u001b[49m\u001b[38;5;241;43m=\u001b[39;49m\u001b[43mna_action\u001b[49m\u001b[43m,\u001b[49m\u001b[43m \u001b[49m\u001b[43mconvert\u001b[49m\u001b[38;5;241;43m=\u001b[39;49m\u001b[43mconvert\u001b[49m\u001b[43m)\u001b[49m\n",
      "File \u001b[1;32mc:\\Users\\sorok\\AppData\\Local\\Programs\\Python\\Python311\\Lib\\site-packages\\pandas\\core\\algorithms.py:1743\u001b[0m, in \u001b[0;36mmap_array\u001b[1;34m(arr, mapper, na_action, convert)\u001b[0m\n\u001b[0;32m   1741\u001b[0m values \u001b[38;5;241m=\u001b[39m arr\u001b[38;5;241m.\u001b[39mastype(\u001b[38;5;28mobject\u001b[39m, copy\u001b[38;5;241m=\u001b[39m\u001b[38;5;28;01mFalse\u001b[39;00m)\n\u001b[0;32m   1742\u001b[0m \u001b[38;5;28;01mif\u001b[39;00m na_action \u001b[38;5;129;01mis\u001b[39;00m \u001b[38;5;28;01mNone\u001b[39;00m:\n\u001b[1;32m-> 1743\u001b[0m     \u001b[38;5;28;01mreturn\u001b[39;00m \u001b[43mlib\u001b[49m\u001b[38;5;241;43m.\u001b[39;49m\u001b[43mmap_infer\u001b[49m\u001b[43m(\u001b[49m\u001b[43mvalues\u001b[49m\u001b[43m,\u001b[49m\u001b[43m \u001b[49m\u001b[43mmapper\u001b[49m\u001b[43m,\u001b[49m\u001b[43m \u001b[49m\u001b[43mconvert\u001b[49m\u001b[38;5;241;43m=\u001b[39;49m\u001b[43mconvert\u001b[49m\u001b[43m)\u001b[49m\n\u001b[0;32m   1744\u001b[0m \u001b[38;5;28;01melse\u001b[39;00m:\n\u001b[0;32m   1745\u001b[0m     \u001b[38;5;28;01mreturn\u001b[39;00m lib\u001b[38;5;241m.\u001b[39mmap_infer_mask(\n\u001b[0;32m   1746\u001b[0m         values, mapper, mask\u001b[38;5;241m=\u001b[39misna(values)\u001b[38;5;241m.\u001b[39mview(np\u001b[38;5;241m.\u001b[39muint8), convert\u001b[38;5;241m=\u001b[39mconvert\n\u001b[0;32m   1747\u001b[0m     )\n",
      "File \u001b[1;32mlib.pyx:2972\u001b[0m, in \u001b[0;36mpandas._libs.lib.map_infer\u001b[1;34m()\u001b[0m\n",
      "File \u001b[1;32md:\\myGit\\Tumar\\artefacts\\notebooks\\../../src\\src_API.py:283\u001b[0m, in \u001b[0;36mget_insurance.<locals>.<lambda>\u001b[1;34m(x)\u001b[0m\n\u001b[0;32m    275\u001b[0m data \u001b[38;5;241m=\u001b[39m pd\u001b[38;5;241m.\u001b[39mDataFrame(data,\n\u001b[0;32m    276\u001b[0m                     columns \u001b[38;5;241m=\u001b[39m[\n\u001b[0;32m    277\u001b[0m                         \u001b[38;5;124m'\u001b[39m\u001b[38;5;124mcoin\u001b[39m\u001b[38;5;124m'\u001b[39m,\n\u001b[1;32m   (...)\u001b[0m\n\u001b[0;32m    280\u001b[0m                         ],\n\u001b[0;32m    281\u001b[0m                     )    \n\u001b[0;32m    282\u001b[0m data\u001b[38;5;241m.\u001b[39mloc[\u001b[38;5;241m0\u001b[39m, \u001b[38;5;124m'\u001b[39m\u001b[38;5;124mupdatedTime\u001b[39m\u001b[38;5;124m'\u001b[39m] \u001b[38;5;241m=\u001b[39m response\u001b[38;5;241m.\u001b[39mget(\u001b[38;5;124m'\u001b[39m\u001b[38;5;124mupdatedTime\u001b[39m\u001b[38;5;124m'\u001b[39m)\n\u001b[1;32m--> 283\u001b[0m f \u001b[38;5;241m=\u001b[39m \u001b[38;5;28;01mlambda\u001b[39;00m x: datetime\u001b[38;5;241m.\u001b[39mutcfromtimestamp(\u001b[38;5;28;43mint\u001b[39;49m\u001b[43m(\u001b[49m\u001b[43mx\u001b[49m\u001b[43m)\u001b[49m\u001b[38;5;241m/\u001b[39m\u001b[38;5;241m1000\u001b[39m)\n\u001b[0;32m    284\u001b[0m data[\u001b[38;5;124m'\u001b[39m\u001b[38;5;124mupdatedTime\u001b[39m\u001b[38;5;124m'\u001b[39m] \u001b[38;5;241m=\u001b[39m data\u001b[38;5;241m.\u001b[39mupdatedTime\u001b[38;5;241m.\u001b[39mapply(f)\n\u001b[0;32m    285\u001b[0m \u001b[38;5;28;01mreturn\u001b[39;00m data\n",
      "\u001b[1;31mValueError\u001b[0m: cannot convert float NaN to integer"
     ]
    }
   ],
   "source": [
    "src_API.get_insurance(client, 'BTC')"
   ]
  },
  {
   "cell_type": "markdown",
   "metadata": {},
   "source": [
    "__Get Delivery Price__   \n",
    "???"
   ]
  },
  {
   "cell_type": "code",
   "execution_count": 16,
   "metadata": {},
   "outputs": [
    {
     "data": {
      "text/html": [
       "<div>\n",
       "<style scoped>\n",
       "    .dataframe tbody tr th:only-of-type {\n",
       "        vertical-align: middle;\n",
       "    }\n",
       "\n",
       "    .dataframe tbody tr th {\n",
       "        vertical-align: top;\n",
       "    }\n",
       "\n",
       "    .dataframe thead th {\n",
       "        text-align: right;\n",
       "    }\n",
       "</style>\n",
       "<table border=\"1\" class=\"dataframe\">\n",
       "  <thead>\n",
       "    <tr style=\"text-align: right;\">\n",
       "      <th></th>\n",
       "      <th>symbol</th>\n",
       "      <th>deliveryPrice</th>\n",
       "      <th>deliveryTime</th>\n",
       "      <th>category</th>\n",
       "    </tr>\n",
       "  </thead>\n",
       "  <tbody>\n",
       "    <tr>\n",
       "      <th>0</th>\n",
       "      <td>ETH-16FEB24-1400-C</td>\n",
       "      <td>2818.70939445</td>\n",
       "      <td>2024-02-16 08:00:00</td>\n",
       "      <td>option</td>\n",
       "    </tr>\n",
       "  </tbody>\n",
       "</table>\n",
       "</div>"
      ],
      "text/plain": [
       "               symbol  deliveryPrice        deliveryTime category\n",
       "0  ETH-16FEB24-1400-C  2818.70939445 2024-02-16 08:00:00   option"
      ]
     },
     "execution_count": 16,
     "metadata": {},
     "output_type": "execute_result"
    }
   ],
   "source": [
    "src_API.get_option_delivery_price(client, 'option', 'ETH-16FEB24-1400-C', 10 )"
   ]
  },
  {
   "cell_type": "markdown",
   "metadata": {},
   "source": [
    "___"
   ]
  }
 ],
 "metadata": {
  "kernelspec": {
   "display_name": "Python 3",
   "language": "python",
   "name": "python3"
  },
  "language_info": {
   "codemirror_mode": {
    "name": "ipython",
    "version": 3
   },
   "file_extension": ".py",
   "mimetype": "text/x-python",
   "name": "python",
   "nbconvert_exporter": "python",
   "pygments_lexer": "ipython3",
   "version": "3.11.7"
  },
  "orig_nbformat": 4
 },
 "nbformat": 4,
 "nbformat_minor": 2
}
