{
 "cells": [
  {
   "cell_type": "code",
   "execution_count": 1,
   "metadata": {},
   "outputs": [
    {
     "data": {
      "text/plain": [
       "<module 'src_API' from 'd:\\\\myGit\\\\BTC_HFT_pet\\\\notebooks\\\\../src\\\\src_API.py'>"
      ]
     },
     "execution_count": 1,
     "metadata": {},
     "output_type": "execute_result"
    }
   ],
   "source": [
    "from pybit.unified_trading import HTTP\n",
    "from pybit.unified_trading import WebSocket\n",
    "import pybit # working source\n",
    "import pandas as pd\n",
    "import datetime \n",
    "\n",
    "import sys\n",
    "from importlib import reload\n",
    "sys.path.append('../../') \n",
    "sys.path.append('../src/')\n",
    "from credentials import KEY, SECRET, KEY_test, SECRET_test\n",
    "import src_API\n",
    "\n",
    "reload(src_API)"
   ]
  },
  {
   "cell_type": "markdown",
   "metadata": {},
   "source": [
    "__getting client__"
   ]
  },
  {
   "cell_type": "code",
   "execution_count": 2,
   "metadata": {},
   "outputs": [],
   "source": [
    "client = HTTP(testnet=True, api_key=KEY_test, api_secret=SECRET_test)\n",
    "symbol = 'BTCUSD'"
   ]
  },
  {
   "cell_type": "markdown",
   "metadata": {},
   "source": [
    "__supporting functions__"
   ]
  },
  {
   "cell_type": "code",
   "execution_count": 3,
   "metadata": {},
   "outputs": [
    {
     "data": {
      "text/plain": [
       "1706798640000"
      ]
     },
     "metadata": {},
     "output_type": "display_data"
    },
    {
     "data": {
      "text/plain": [
       "datetime.datetime(2024, 2, 11, 15, 53, 59, 991000)"
      ]
     },
     "metadata": {},
     "output_type": "display_data"
    }
   ],
   "source": [
    "reload(src_API)\n",
    "display(src_API.convert_dt_to_timestamp('2024-02-01 17:44:00'))\n",
    "display(src_API.convert_ts_to_datetime(1707656039991))"
   ]
  },
  {
   "cell_type": "markdown",
   "metadata": {},
   "source": [
    "## __Market API__"
   ]
  },
  {
   "cell_type": "markdown",
   "metadata": {},
   "source": [
    "__getting bybit server time__"
   ]
  },
  {
   "cell_type": "code",
   "execution_count": 3,
   "metadata": {},
   "outputs": [
    {
     "data": {
      "text/plain": [
       "(Timestamp('2024-02-26 15:21:33'), Timestamp('2024-02-26 15:21:33'))"
      ]
     },
     "execution_count": 3,
     "metadata": {},
     "output_type": "execute_result"
    }
   ],
   "source": [
    "reload(src_API)\n",
    "src_API.get_server_time(client)"
   ]
  },
  {
   "cell_type": "code",
   "execution_count": 8,
   "metadata": {},
   "outputs": [
    {
     "name": "stdout",
     "output_type": "stream",
     "text": [
      "2024-02-24 13:21:29\n",
      "2024-02-24 13:23:29\n"
     ]
    }
   ],
   "source": [
    "# FOR TESTING!!! DO NOT DROP !!!\n",
    "start = str((datetime.datetime.today() - datetime.timedelta(hours=0, minutes=3)))[:-7]\n",
    "print(start)\n",
    "start = src_API.convert_dt_to_timestamp(start)\n",
    "end = str((datetime.datetime.today() - datetime.timedelta(hours=0, minutes=1)))[:-7]\n",
    "print(end)\n",
    "end = src_API.convert_dt_to_timestamp(end)\n"
   ]
  },
  {
   "cell_type": "markdown",
   "metadata": {},
   "source": [
    "__getting historical data__"
   ]
  },
  {
   "cell_type": "code",
   "execution_count": 9,
   "metadata": {},
   "outputs": [
    {
     "data": {
      "text/html": [
       "<div>\n",
       "<style scoped>\n",
       "    .dataframe tbody tr th:only-of-type {\n",
       "        vertical-align: middle;\n",
       "    }\n",
       "\n",
       "    .dataframe tbody tr th {\n",
       "        vertical-align: top;\n",
       "    }\n",
       "\n",
       "    .dataframe thead th {\n",
       "        text-align: right;\n",
       "    }\n",
       "</style>\n",
       "<table border=\"1\" class=\"dataframe\">\n",
       "  <thead>\n",
       "    <tr style=\"text-align: right;\">\n",
       "      <th></th>\n",
       "      <th>datetime</th>\n",
       "      <th>timestamp</th>\n",
       "      <th>open</th>\n",
       "      <th>high</th>\n",
       "      <th>low</th>\n",
       "      <th>close</th>\n",
       "      <th>volume</th>\n",
       "      <th>turnover</th>\n",
       "    </tr>\n",
       "  </thead>\n",
       "  <tbody>\n",
       "    <tr>\n",
       "      <th>0</th>\n",
       "      <td>2024-02-24 10:24:00</td>\n",
       "      <td>1708770240000</td>\n",
       "      <td>51132.5</td>\n",
       "      <td>51132.5</td>\n",
       "      <td>51132.5</td>\n",
       "      <td>51132.5</td>\n",
       "      <td>54955</td>\n",
       "      <td>1.07475674</td>\n",
       "    </tr>\n",
       "    <tr>\n",
       "      <th>1</th>\n",
       "      <td>2024-02-24 10:23:00</td>\n",
       "      <td>1708770180000</td>\n",
       "      <td>51138.5</td>\n",
       "      <td>51140</td>\n",
       "      <td>51130</td>\n",
       "      <td>51132.5</td>\n",
       "      <td>83976</td>\n",
       "      <td>1.64233739</td>\n",
       "    </tr>\n",
       "    <tr>\n",
       "      <th>2</th>\n",
       "      <td>2024-02-24 10:22:00</td>\n",
       "      <td>1708770120000</td>\n",
       "      <td>51170.5</td>\n",
       "      <td>51171</td>\n",
       "      <td>51138.5</td>\n",
       "      <td>51138.5</td>\n",
       "      <td>532190</td>\n",
       "      <td>10.40527641</td>\n",
       "    </tr>\n",
       "  </tbody>\n",
       "</table>\n",
       "</div>"
      ],
      "text/plain": [
       "             datetime      timestamp     open     high      low    close  \\\n",
       "0 2024-02-24 10:24:00  1708770240000  51132.5  51132.5  51132.5  51132.5   \n",
       "1 2024-02-24 10:23:00  1708770180000  51138.5    51140    51130  51132.5   \n",
       "2 2024-02-24 10:22:00  1708770120000  51170.5    51171  51138.5  51138.5   \n",
       "\n",
       "   volume     turnover  \n",
       "0   54955   1.07475674  \n",
       "1   83976   1.64233739  \n",
       "2  532190  10.40527641  "
      ]
     },
     "execution_count": 9,
     "metadata": {},
     "output_type": "execute_result"
    }
   ],
   "source": [
    "# spot,linear,inverse\n",
    "# 1,3,5,15,30,60,120,240,360,720,D,M,W\n",
    "reload(src_API)\n",
    "src_API.get_kline(client, 'linear', 'BTCUSD', 1, start=start, limit=1000)"
   ]
  },
  {
   "cell_type": "markdown",
   "metadata": {},
   "source": [
    "__getting <u>!mark (global spot price)!</u> historical data__"
   ]
  },
  {
   "cell_type": "code",
   "execution_count": 7,
   "metadata": {},
   "outputs": [
    {
     "data": {
      "text/html": [
       "<div>\n",
       "<style scoped>\n",
       "    .dataframe tbody tr th:only-of-type {\n",
       "        vertical-align: middle;\n",
       "    }\n",
       "\n",
       "    .dataframe tbody tr th {\n",
       "        vertical-align: top;\n",
       "    }\n",
       "\n",
       "    .dataframe thead th {\n",
       "        text-align: right;\n",
       "    }\n",
       "</style>\n",
       "<table border=\"1\" class=\"dataframe\">\n",
       "  <thead>\n",
       "    <tr style=\"text-align: right;\">\n",
       "      <th></th>\n",
       "      <th>datetime</th>\n",
       "      <th>timestamp</th>\n",
       "      <th>open</th>\n",
       "      <th>high</th>\n",
       "      <th>low</th>\n",
       "      <th>close</th>\n",
       "    </tr>\n",
       "  </thead>\n",
       "  <tbody>\n",
       "    <tr>\n",
       "      <th>0</th>\n",
       "      <td>2024-02-16 13:51:00</td>\n",
       "      <td>1708091460000</td>\n",
       "      <td>52297.5</td>\n",
       "      <td>52347.5</td>\n",
       "      <td>52297.5</td>\n",
       "      <td>52347</td>\n",
       "    </tr>\n",
       "    <tr>\n",
       "      <th>1</th>\n",
       "      <td>2024-02-16 13:50:00</td>\n",
       "      <td>1708091400000</td>\n",
       "      <td>52272.35</td>\n",
       "      <td>52305</td>\n",
       "      <td>52272.35</td>\n",
       "      <td>52297.5</td>\n",
       "    </tr>\n",
       "    <tr>\n",
       "      <th>2</th>\n",
       "      <td>2024-02-16 13:49:00</td>\n",
       "      <td>1708091340000</td>\n",
       "      <td>52323.5</td>\n",
       "      <td>52323.5</td>\n",
       "      <td>52272.35</td>\n",
       "      <td>52272.35</td>\n",
       "    </tr>\n",
       "  </tbody>\n",
       "</table>\n",
       "</div>"
      ],
      "text/plain": [
       "             datetime      timestamp      open     high       low     close\n",
       "0 2024-02-16 13:51:00  1708091460000   52297.5  52347.5   52297.5     52347\n",
       "1 2024-02-16 13:50:00  1708091400000  52272.35    52305  52272.35   52297.5\n",
       "2 2024-02-16 13:49:00  1708091340000   52323.5  52323.5  52272.35  52272.35"
      ]
     },
     "execution_count": 7,
     "metadata": {},
     "output_type": "execute_result"
    }
   ],
   "source": [
    "# linear,inverse\n",
    "# 1,3,5,15,30,60,120,240,360,720,D,M,W\n",
    "reload(src_API)\n",
    "src_API.get_mark_price_line(client, 'linear', 'BTCUSD', 1, start=start, limit=1000)"
   ]
  },
  {
   "cell_type": "markdown",
   "metadata": {},
   "source": [
    "__getting <u>!index price!</u> historical data__ "
   ]
  },
  {
   "cell_type": "code",
   "execution_count": 8,
   "metadata": {},
   "outputs": [
    {
     "data": {
      "text/html": [
       "<div>\n",
       "<style scoped>\n",
       "    .dataframe tbody tr th:only-of-type {\n",
       "        vertical-align: middle;\n",
       "    }\n",
       "\n",
       "    .dataframe tbody tr th {\n",
       "        vertical-align: top;\n",
       "    }\n",
       "\n",
       "    .dataframe thead th {\n",
       "        text-align: right;\n",
       "    }\n",
       "</style>\n",
       "<table border=\"1\" class=\"dataframe\">\n",
       "  <thead>\n",
       "    <tr style=\"text-align: right;\">\n",
       "      <th></th>\n",
       "      <th>datetime</th>\n",
       "      <th>timestamp</th>\n",
       "      <th>open</th>\n",
       "      <th>high</th>\n",
       "      <th>low</th>\n",
       "      <th>close</th>\n",
       "    </tr>\n",
       "  </thead>\n",
       "  <tbody>\n",
       "    <tr>\n",
       "      <th>0</th>\n",
       "      <td>2024-02-16 13:51:00</td>\n",
       "      <td>1708091460000</td>\n",
       "      <td>52271.36</td>\n",
       "      <td>52314.74</td>\n",
       "      <td>52268.85</td>\n",
       "      <td>52314.74</td>\n",
       "    </tr>\n",
       "    <tr>\n",
       "      <th>1</th>\n",
       "      <td>2024-02-16 13:50:00</td>\n",
       "      <td>1708091400000</td>\n",
       "      <td>52221.45</td>\n",
       "      <td>52273.64</td>\n",
       "      <td>52218.53</td>\n",
       "      <td>52271.36</td>\n",
       "    </tr>\n",
       "    <tr>\n",
       "      <th>2</th>\n",
       "      <td>2024-02-16 13:49:00</td>\n",
       "      <td>1708091340000</td>\n",
       "      <td>52272.65</td>\n",
       "      <td>52272.88</td>\n",
       "      <td>52221.45</td>\n",
       "      <td>52221.45</td>\n",
       "    </tr>\n",
       "  </tbody>\n",
       "</table>\n",
       "</div>"
      ],
      "text/plain": [
       "             datetime      timestamp      open      high       low     close\n",
       "0 2024-02-16 13:51:00  1708091460000  52271.36  52314.74  52268.85  52314.74\n",
       "1 2024-02-16 13:50:00  1708091400000  52221.45  52273.64  52218.53  52271.36\n",
       "2 2024-02-16 13:49:00  1708091340000  52272.65  52272.88  52221.45  52221.45"
      ]
     },
     "execution_count": 8,
     "metadata": {},
     "output_type": "execute_result"
    }
   ],
   "source": [
    "reload(src_API)\n",
    "src_API.get_index_price_kline(client, 'linear', 'BTCUSD', 1, start=start, limit=1000)"
   ]
  },
  {
   "cell_type": "markdown",
   "metadata": {},
   "source": [
    "__getting <u>!premium index price!</u> historical data__ "
   ]
  },
  {
   "cell_type": "code",
   "execution_count": 28,
   "metadata": {},
   "outputs": [
    {
     "data": {
      "text/html": [
       "<div>\n",
       "<style scoped>\n",
       "    .dataframe tbody tr th:only-of-type {\n",
       "        vertical-align: middle;\n",
       "    }\n",
       "\n",
       "    .dataframe tbody tr th {\n",
       "        vertical-align: top;\n",
       "    }\n",
       "\n",
       "    .dataframe thead th {\n",
       "        text-align: right;\n",
       "    }\n",
       "</style>\n",
       "<table border=\"1\" class=\"dataframe\">\n",
       "  <thead>\n",
       "    <tr style=\"text-align: right;\">\n",
       "      <th></th>\n",
       "      <th>datetime</th>\n",
       "      <th>timestamp</th>\n",
       "      <th>open</th>\n",
       "      <th>high</th>\n",
       "      <th>low</th>\n",
       "      <th>close</th>\n",
       "    </tr>\n",
       "  </thead>\n",
       "  <tbody>\n",
       "    <tr>\n",
       "      <th>0</th>\n",
       "      <td>2024-02-16 14:30:00</td>\n",
       "      <td>1708093800000</td>\n",
       "      <td>0.00000000</td>\n",
       "      <td>0.00000000</td>\n",
       "      <td>0.00000000</td>\n",
       "      <td>0.00000000</td>\n",
       "    </tr>\n",
       "    <tr>\n",
       "      <th>1</th>\n",
       "      <td>2024-02-16 14:29:00</td>\n",
       "      <td>1708093740000</td>\n",
       "      <td>0.00000000</td>\n",
       "      <td>0.00000000</td>\n",
       "      <td>0.00000000</td>\n",
       "      <td>0.00000000</td>\n",
       "    </tr>\n",
       "  </tbody>\n",
       "</table>\n",
       "</div>"
      ],
      "text/plain": [
       "             datetime      timestamp        open        high         low  \\\n",
       "0 2024-02-16 14:30:00  1708093800000  0.00000000  0.00000000  0.00000000   \n",
       "1 2024-02-16 14:29:00  1708093740000  0.00000000  0.00000000  0.00000000   \n",
       "\n",
       "        close  \n",
       "0  0.00000000  \n",
       "1  0.00000000  "
      ]
     },
     "execution_count": 28,
     "metadata": {},
     "output_type": "execute_result"
    }
   ],
   "source": [
    "reload(src_API)\n",
    "src_API.get_premium_index_price_kline(client, 'linear', 'BTCUSD', 1, start=start, limit=1000)"
   ]
  },
  {
   "cell_type": "markdown",
   "metadata": {},
   "source": [
    "__getting orderbook__  \n",
    "I do not know why this is necessary, but may be latter..."
   ]
  },
  {
   "cell_type": "code",
   "execution_count": 22,
   "metadata": {},
   "outputs": [
    {
     "data": {
      "text/html": [
       "<div>\n",
       "<style scoped>\n",
       "    .dataframe tbody tr th:only-of-type {\n",
       "        vertical-align: middle;\n",
       "    }\n",
       "\n",
       "    .dataframe tbody tr th {\n",
       "        vertical-align: top;\n",
       "    }\n",
       "\n",
       "    .dataframe thead th {\n",
       "        text-align: right;\n",
       "    }\n",
       "</style>\n",
       "<table border=\"1\" class=\"dataframe\">\n",
       "  <thead>\n",
       "    <tr style=\"text-align: right;\">\n",
       "      <th></th>\n",
       "      <th>s</th>\n",
       "      <th>a</th>\n",
       "      <th>b</th>\n",
       "      <th>ts</th>\n",
       "      <th>u</th>\n",
       "      <th>datetime</th>\n",
       "    </tr>\n",
       "  </thead>\n",
       "  <tbody>\n",
       "    <tr>\n",
       "      <th>0</th>\n",
       "      <td>BTCUSDT</td>\n",
       "      <td>[33229.38, 0.000561]</td>\n",
       "      <td>[33206.66, 0.002947]</td>\n",
       "      <td>1708093797668</td>\n",
       "      <td>7090286</td>\n",
       "      <td>2024-02-16 14:29:57.668</td>\n",
       "    </tr>\n",
       "    <tr>\n",
       "      <th>1</th>\n",
       "      <td>BTCUSDT</td>\n",
       "      <td>[33230.54, 0.000295]</td>\n",
       "      <td>[33206.6, 0.002515]</td>\n",
       "      <td>1708093797668</td>\n",
       "      <td>7090286</td>\n",
       "      <td>2024-02-16 14:29:57.668</td>\n",
       "    </tr>\n",
       "    <tr>\n",
       "      <th>2</th>\n",
       "      <td>BTCUSDT</td>\n",
       "      <td>[33234.25, 0.01305]</td>\n",
       "      <td>[33206.58, 0.002852]</td>\n",
       "      <td>1708093797668</td>\n",
       "      <td>7090286</td>\n",
       "      <td>2024-02-16 14:29:57.668</td>\n",
       "    </tr>\n",
       "  </tbody>\n",
       "</table>\n",
       "</div>"
      ],
      "text/plain": [
       "         s                     a                     b             ts  \\\n",
       "0  BTCUSDT  [33229.38, 0.000561]  [33206.66, 0.002947]  1708093797668   \n",
       "1  BTCUSDT  [33230.54, 0.000295]   [33206.6, 0.002515]  1708093797668   \n",
       "2  BTCUSDT   [33234.25, 0.01305]  [33206.58, 0.002852]  1708093797668   \n",
       "\n",
       "         u                datetime  \n",
       "0  7090286 2024-02-16 14:29:57.668  \n",
       "1  7090286 2024-02-16 14:29:57.668  \n",
       "2  7090286 2024-02-16 14:29:57.668  "
      ]
     },
     "execution_count": 22,
     "metadata": {},
     "output_type": "execute_result"
    }
   ],
   "source": [
    "reload(src_API)\n",
    "src_API.get_orderbook(client, 'spot', 'BTCUSDT', limit=3)"
   ]
  },
  {
   "cell_type": "markdown",
   "metadata": {},
   "source": [
    "__Getting Public Recent Trading History__  \n",
    "actual price ???"
   ]
  },
  {
   "cell_type": "code",
   "execution_count": 21,
   "metadata": {},
   "outputs": [
    {
     "data": {
      "text/html": [
       "<div>\n",
       "<style scoped>\n",
       "    .dataframe tbody tr th:only-of-type {\n",
       "        vertical-align: middle;\n",
       "    }\n",
       "\n",
       "    .dataframe tbody tr th {\n",
       "        vertical-align: top;\n",
       "    }\n",
       "\n",
       "    .dataframe thead th {\n",
       "        text-align: right;\n",
       "    }\n",
       "</style>\n",
       "<table border=\"1\" class=\"dataframe\">\n",
       "  <thead>\n",
       "    <tr style=\"text-align: right;\">\n",
       "      <th></th>\n",
       "      <th>execId</th>\n",
       "      <th>symbol</th>\n",
       "      <th>price</th>\n",
       "      <th>size</th>\n",
       "      <th>side</th>\n",
       "      <th>time</th>\n",
       "      <th>isBlockTrade</th>\n",
       "    </tr>\n",
       "  </thead>\n",
       "  <tbody>\n",
       "    <tr>\n",
       "      <th>0</th>\n",
       "      <td>2100000000061507129</td>\n",
       "      <td>BTCUSDT</td>\n",
       "      <td>33206.64</td>\n",
       "      <td>0.001661</td>\n",
       "      <td>Sell</td>\n",
       "      <td>2024-02-16 14:29:39.318</td>\n",
       "      <td>False</td>\n",
       "    </tr>\n",
       "    <tr>\n",
       "      <th>1</th>\n",
       "      <td>2100000000061507128</td>\n",
       "      <td>BTCUSDT</td>\n",
       "      <td>33206.66</td>\n",
       "      <td>0.001287</td>\n",
       "      <td>Sell</td>\n",
       "      <td>2024-02-16 14:29:38.174</td>\n",
       "      <td>False</td>\n",
       "    </tr>\n",
       "    <tr>\n",
       "      <th>2</th>\n",
       "      <td>2100000000061507127</td>\n",
       "      <td>BTCUSDT</td>\n",
       "      <td>33206.68</td>\n",
       "      <td>0.00142</td>\n",
       "      <td>Sell</td>\n",
       "      <td>2024-02-16 14:29:36.620</td>\n",
       "      <td>False</td>\n",
       "    </tr>\n",
       "  </tbody>\n",
       "</table>\n",
       "</div>"
      ],
      "text/plain": [
       "                execId   symbol     price      size  side  \\\n",
       "0  2100000000061507129  BTCUSDT  33206.64  0.001661  Sell   \n",
       "1  2100000000061507128  BTCUSDT  33206.66  0.001287  Sell   \n",
       "2  2100000000061507127  BTCUSDT  33206.68   0.00142  Sell   \n",
       "\n",
       "                     time  isBlockTrade  \n",
       "0 2024-02-16 14:29:39.318         False  \n",
       "1 2024-02-16 14:29:38.174         False  \n",
       "2 2024-02-16 14:29:36.620         False  "
      ]
     },
     "execution_count": 21,
     "metadata": {},
     "output_type": "execute_result"
    }
   ],
   "source": [
    "reload(src_API)\n",
    "src_API.get_public_trade_history(client, 'spot', 'BTCUSDT', optionType='Put', limit=3)"
   ]
  },
  {
   "cell_type": "markdown",
   "metadata": {},
   "source": [
    "__Get Historical Volatility__   \n",
    "period only 30+ ???"
   ]
  },
  {
   "cell_type": "code",
   "execution_count": 19,
   "metadata": {},
   "outputs": [
    {
     "data": {
      "text/html": [
       "<div>\n",
       "<style scoped>\n",
       "    .dataframe tbody tr th:only-of-type {\n",
       "        vertical-align: middle;\n",
       "    }\n",
       "\n",
       "    .dataframe tbody tr th {\n",
       "        vertical-align: top;\n",
       "    }\n",
       "\n",
       "    .dataframe thead th {\n",
       "        text-align: right;\n",
       "    }\n",
       "</style>\n",
       "<table border=\"1\" class=\"dataframe\">\n",
       "  <thead>\n",
       "    <tr style=\"text-align: right;\">\n",
       "      <th></th>\n",
       "      <th>period</th>\n",
       "      <th>value</th>\n",
       "      <th>time</th>\n",
       "    </tr>\n",
       "  </thead>\n",
       "  <tbody>\n",
       "    <tr>\n",
       "      <th>0</th>\n",
       "      <td>30</td>\n",
       "      <td>0.42277257</td>\n",
       "      <td>2024-02-16 14:00:00</td>\n",
       "    </tr>\n",
       "  </tbody>\n",
       "</table>\n",
       "</div>"
      ],
      "text/plain": [
       "   period       value                time\n",
       "0      30  0.42277257 2024-02-16 14:00:00"
      ]
     },
     "execution_count": 19,
     "metadata": {},
     "output_type": "execute_result"
    }
   ],
   "source": [
    "reload(src_API)\n",
    "src_API.get_historical_volatility(client, 'option', period=30, startTime=start, endTime=end)"
   ]
  },
  {
   "cell_type": "markdown",
   "metadata": {},
   "source": [
    "__Get Insurance__  \n",
    "Query for Bybit insurance pool data (BTC/USDT/USDC etc). The data is updated every 24 hours."
   ]
  },
  {
   "cell_type": "code",
   "execution_count": 48,
   "metadata": {},
   "outputs": [
    {
     "data": {
      "text/html": [
       "<div>\n",
       "<style scoped>\n",
       "    .dataframe tbody tr th:only-of-type {\n",
       "        vertical-align: middle;\n",
       "    }\n",
       "\n",
       "    .dataframe tbody tr th {\n",
       "        vertical-align: top;\n",
       "    }\n",
       "\n",
       "    .dataframe thead th {\n",
       "        text-align: right;\n",
       "    }\n",
       "</style>\n",
       "<table border=\"1\" class=\"dataframe\">\n",
       "  <thead>\n",
       "    <tr style=\"text-align: right;\">\n",
       "      <th></th>\n",
       "      <th>coin</th>\n",
       "      <th>balance</th>\n",
       "      <th>value</th>\n",
       "      <th>updatedTime</th>\n",
       "    </tr>\n",
       "  </thead>\n",
       "  <tbody>\n",
       "    <tr>\n",
       "      <th>0</th>\n",
       "      <td>BTC</td>\n",
       "      <td>37821.55122511</td>\n",
       "      <td>1963325174.5800002</td>\n",
       "      <td>2024-02-16</td>\n",
       "    </tr>\n",
       "  </tbody>\n",
       "</table>\n",
       "</div>"
      ],
      "text/plain": [
       "  coin         balance               value updatedTime\n",
       "0  BTC  37821.55122511  1963325174.5800002  2024-02-16"
      ]
     },
     "execution_count": 48,
     "metadata": {},
     "output_type": "execute_result"
    }
   ],
   "source": [
    "reload(src_API)\n",
    "src_API.get_insurance(client, 'BTC')"
   ]
  },
  {
   "cell_type": "markdown",
   "metadata": {},
   "source": [
    "__Get Delivery Price__   \n",
    "???"
   ]
  },
  {
   "cell_type": "code",
   "execution_count": 47,
   "metadata": {},
   "outputs": [
    {
     "data": {
      "text/html": [
       "<div>\n",
       "<style scoped>\n",
       "    .dataframe tbody tr th:only-of-type {\n",
       "        vertical-align: middle;\n",
       "    }\n",
       "\n",
       "    .dataframe tbody tr th {\n",
       "        vertical-align: top;\n",
       "    }\n",
       "\n",
       "    .dataframe thead th {\n",
       "        text-align: right;\n",
       "    }\n",
       "</style>\n",
       "<table border=\"1\" class=\"dataframe\">\n",
       "  <thead>\n",
       "    <tr style=\"text-align: right;\">\n",
       "      <th></th>\n",
       "      <th>symbol</th>\n",
       "      <th>deliveryPrice</th>\n",
       "      <th>deliveryTime</th>\n",
       "      <th>category</th>\n",
       "    </tr>\n",
       "  </thead>\n",
       "  <tbody>\n",
       "    <tr>\n",
       "      <th>0</th>\n",
       "      <td>ETH-16FEB24-1400-C</td>\n",
       "      <td>2818.70939445</td>\n",
       "      <td>2024-02-16 08:00:00</td>\n",
       "      <td>option</td>\n",
       "    </tr>\n",
       "  </tbody>\n",
       "</table>\n",
       "</div>"
      ],
      "text/plain": [
       "               symbol  deliveryPrice        deliveryTime category\n",
       "0  ETH-16FEB24-1400-C  2818.70939445 2024-02-16 08:00:00   option"
      ]
     },
     "execution_count": 47,
     "metadata": {},
     "output_type": "execute_result"
    }
   ],
   "source": [
    "reload(src_API)\n",
    "src_API.get_option_delivery_price(client, 'option', 'ETH-16FEB24-1400-C', 10 )"
   ]
  },
  {
   "cell_type": "markdown",
   "metadata": {},
   "source": [
    "___"
   ]
  }
 ],
 "metadata": {
  "kernelspec": {
   "display_name": "Python 3",
   "language": "python",
   "name": "python3"
  },
  "language_info": {
   "codemirror_mode": {
    "name": "ipython",
    "version": 3
   },
   "file_extension": ".py",
   "mimetype": "text/x-python",
   "name": "python",
   "nbconvert_exporter": "python",
   "pygments_lexer": "ipython3",
   "version": "3.11.7"
  },
  "orig_nbformat": 4
 },
 "nbformat": 4,
 "nbformat_minor": 2
}
