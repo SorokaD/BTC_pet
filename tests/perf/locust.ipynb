{
 "cells": [
  {
   "cell_type": "code",
   "execution_count": 24,
   "metadata": {},
   "outputs": [],
   "source": [
    "import pandas as pd\n",
    "import os"
   ]
  },
  {
   "cell_type": "code",
   "execution_count": 45,
   "metadata": {},
   "outputs": [
    {
     "data": {
      "text/html": [
       "<div>\n",
       "<style scoped>\n",
       "    .dataframe tbody tr th:only-of-type {\n",
       "        vertical-align: middle;\n",
       "    }\n",
       "\n",
       "    .dataframe tbody tr th {\n",
       "        vertical-align: top;\n",
       "    }\n",
       "\n",
       "    .dataframe thead th {\n",
       "        text-align: right;\n",
       "    }\n",
       "</style>\n",
       "<table border=\"1\" class=\"dataframe\">\n",
       "  <thead>\n",
       "    <tr style=\"text-align: right;\">\n",
       "      <th></th>\n",
       "      <th>Type</th>\n",
       "      <th>Name</th>\n",
       "      <th>Request Count</th>\n",
       "      <th>Failure Count</th>\n",
       "      <th>Median Response Time</th>\n",
       "      <th>Average Response Time</th>\n",
       "      <th>Min Response Time</th>\n",
       "      <th>Max Response Time</th>\n",
       "      <th>Average Content Size</th>\n",
       "      <th>Requests/s</th>\n",
       "      <th>...</th>\n",
       "      <th>66%</th>\n",
       "      <th>75%</th>\n",
       "      <th>80%</th>\n",
       "      <th>90%</th>\n",
       "      <th>95%</th>\n",
       "      <th>98%</th>\n",
       "      <th>99%</th>\n",
       "      <th>99.9%</th>\n",
       "      <th>99.99%</th>\n",
       "      <th>100%</th>\n",
       "    </tr>\n",
       "  </thead>\n",
       "  <tbody>\n",
       "    <tr>\n",
       "      <th>0</th>\n",
       "      <td>POST</td>\n",
       "      <td>/predict_subscription_upsell</td>\n",
       "      <td>14260</td>\n",
       "      <td>0</td>\n",
       "      <td>420.0</td>\n",
       "      <td>417.533443</td>\n",
       "      <td>397.5976</td>\n",
       "      <td>717.0207</td>\n",
       "      <td>269.0</td>\n",
       "      <td>23.793733</td>\n",
       "      <td>...</td>\n",
       "      <td>420</td>\n",
       "      <td>420</td>\n",
       "      <td>420</td>\n",
       "      <td>420</td>\n",
       "      <td>430</td>\n",
       "      <td>440</td>\n",
       "      <td>450</td>\n",
       "      <td>610</td>\n",
       "      <td>710</td>\n",
       "      <td>720</td>\n",
       "    </tr>\n",
       "    <tr>\n",
       "      <th>1</th>\n",
       "      <td>NaN</td>\n",
       "      <td>Aggregated</td>\n",
       "      <td>14260</td>\n",
       "      <td>0</td>\n",
       "      <td>420.0</td>\n",
       "      <td>417.533443</td>\n",
       "      <td>397.5976</td>\n",
       "      <td>717.0207</td>\n",
       "      <td>269.0</td>\n",
       "      <td>23.793733</td>\n",
       "      <td>...</td>\n",
       "      <td>420</td>\n",
       "      <td>420</td>\n",
       "      <td>420</td>\n",
       "      <td>420</td>\n",
       "      <td>430</td>\n",
       "      <td>440</td>\n",
       "      <td>450</td>\n",
       "      <td>610</td>\n",
       "      <td>710</td>\n",
       "      <td>720</td>\n",
       "    </tr>\n",
       "  </tbody>\n",
       "</table>\n",
       "<p>2 rows × 22 columns</p>\n",
       "</div>"
      ],
      "text/plain": [
       "   Type                          Name  Request Count  Failure Count  \\\n",
       "0  POST  /predict_subscription_upsell          14260              0   \n",
       "1   NaN                    Aggregated          14260              0   \n",
       "\n",
       "   Median Response Time  Average Response Time  Min Response Time  \\\n",
       "0                 420.0             417.533443           397.5976   \n",
       "1                 420.0             417.533443           397.5976   \n",
       "\n",
       "   Max Response Time  Average Content Size  Requests/s  ...  66%  75%  80%  \\\n",
       "0           717.0207                 269.0   23.793733  ...  420  420  420   \n",
       "1           717.0207                 269.0   23.793733  ...  420  420  420   \n",
       "\n",
       "   90%  95%  98%  99%  99.9%  99.99%  100%  \n",
       "0  420  430  440  450    610     710   720  \n",
       "1  420  430  440  450    610     710   720  \n",
       "\n",
       "[2 rows x 22 columns]"
      ]
     },
     "metadata": {},
     "output_type": "display_data"
    },
    {
     "name": "stdout",
     "output_type": "stream",
     "text": [
      "Среднее время отклика: 417.5334430855538 ms\n"
     ]
    }
   ],
   "source": [
    "# locust -f locustfile.py --headless -u 10 -r 10 --run-time 1m --csv=results --host=http://localhost:8000\n",
    "\n",
    "# Загрузим CSV файл\n",
    "df = pd.read_csv('results_stats.csv')\n",
    "display(df)\n",
    "\n",
    "average_response_time = df['Average Response Time'].mean()\n",
    "print(f'Среднее время отклика: {average_response_time} ms')"
   ]
  },
  {
   "cell_type": "code",
   "execution_count": 46,
   "metadata": {},
   "outputs": [],
   "source": [
    "file_path = 'results_stats.xlsx'\n",
    "\n",
    "if os.path.exists(file_path):\n",
    "    with pd.ExcelWriter(file_path, engine='openpyxl', mode='a') as writer:  \n",
    "        df.to_excel(writer, sheet_name='SubscriptionUpsell', index=False)\n",
    "else: \n",
    "    df.to_excel(file_path, index=False, sheet_name='SmartFeeCovering')"
   ]
  }
 ],
 "metadata": {
  "kernelspec": {
   "display_name": "Python 3",
   "language": "python",
   "name": "python3"
  },
  "language_info": {
   "codemirror_mode": {
    "name": "ipython",
    "version": 3
   },
   "file_extension": ".py",
   "mimetype": "text/x-python",
   "name": "python",
   "nbconvert_exporter": "python",
   "pygments_lexer": "ipython3",
   "version": "3.11.7"
  }
 },
 "nbformat": 4,
 "nbformat_minor": 2
}
